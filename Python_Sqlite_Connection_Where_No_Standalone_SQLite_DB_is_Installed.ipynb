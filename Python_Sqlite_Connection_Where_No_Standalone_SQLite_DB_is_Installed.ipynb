{
  "nbformat": 4,
  "nbformat_minor": 0,
  "metadata": {
    "colab": {
      "provenance": []
    },
    "kernelspec": {
      "name": "python3",
      "display_name": "Python 3"
    },
    "language_info": {
      "name": "python"
    }
  },
  "cells": [
    {
      "cell_type": "markdown",
      "source": [
        "This Google Colab Notebook contains a project on Python-SQLite Connection where the SQLite database is not already installed. This is made possible because SQLite is embedded in the Python Programming Langauge. No need for a standalone installation."
      ],
      "metadata": {
        "id": "VYNABIlTFYjA"
      }
    },
    {
      "cell_type": "code",
      "execution_count": 1,
      "metadata": {
        "id": "-MFZVECFD-8N"
      },
      "outputs": [],
      "source": [
        "# Import sqlite3 library\n",
        "import sqlite3"
      ]
    },
    {
      "cell_type": "code",
      "source": [
        "# Create a connection object\n",
        "conn = sqlite3.connect('hr.db')\n",
        "print(\"Opened database successfully\")"
      ],
      "metadata": {
        "colab": {
          "base_uri": "https://localhost:8080/"
        },
        "id": "O4sqEytVEHHr",
        "outputId": "7da0db86-4e0c-4f8f-8169-e870d09f2e49"
      },
      "execution_count": 2,
      "outputs": [
        {
          "output_type": "stream",
          "name": "stdout",
          "text": [
            "Opened database successfully\n"
          ]
        }
      ]
    },
    {
      "cell_type": "code",
      "source": [
        "# Check the version of the sqlite libary\n",
        "sqlite3.version"
      ],
      "metadata": {
        "id": "Bu9TjmsPvKjE",
        "colab": {
          "base_uri": "https://localhost:8080/",
          "height": 36
        },
        "outputId": "2de437a9-b10f-47db-d5a4-d6b2c2609bdd"
      },
      "execution_count": 3,
      "outputs": [
        {
          "output_type": "execute_result",
          "data": {
            "text/plain": [
              "'2.6.0'"
            ],
            "application/vnd.google.colaboratory.intrinsic+json": {
              "type": "string"
            }
          },
          "metadata": {},
          "execution_count": 3
        }
      ]
    },
    {
      "cell_type": "code",
      "source": [
        "# Create a cursor object\n",
        "c = conn.cursor()"
      ],
      "metadata": {
        "id": "wWfEEqpjEN2n"
      },
      "execution_count": 4,
      "outputs": []
    },
    {
      "cell_type": "code",
      "source": [
        "# Define a function to check if a table exists\n",
        "def table_check(table_name):\n",
        "    c.execute(\"\"\"SELECT count(name) FROM sqlite_master WHERE type='table' AND name='{}'\"\"\".format(table_name))\n",
        "    if c.fetchone()[0] == 1:\n",
        "        return True\n",
        "    return False"
      ],
      "metadata": {
        "id": "VK-dEGc_EWPt"
      },
      "execution_count": 5,
      "outputs": []
    },
    {
      "cell_type": "markdown",
      "source": [
        "---\n",
        "Check if the tables already exist."
      ],
      "metadata": {
        "id": "-dSKCXlYvi9Y"
      }
    },
    {
      "cell_type": "code",
      "source": [
        "table_check('regions')"
      ],
      "metadata": {
        "colab": {
          "base_uri": "https://localhost:8080/"
        },
        "id": "k0O1HVxmMful",
        "outputId": "7181b02f-d87a-4ac1-9f92-81dcb83325ac"
      },
      "execution_count": 6,
      "outputs": [
        {
          "output_type": "execute_result",
          "data": {
            "text/plain": [
              "False"
            ]
          },
          "metadata": {},
          "execution_count": 6
        }
      ]
    },
    {
      "cell_type": "code",
      "source": [
        "table_check('countries')"
      ],
      "metadata": {
        "colab": {
          "base_uri": "https://localhost:8080/"
        },
        "id": "yBk9TACgMuc1",
        "outputId": "6b64c4c9-faa7-40e5-f22a-b1dd8ec33074"
      },
      "execution_count": 7,
      "outputs": [
        {
          "output_type": "execute_result",
          "data": {
            "text/plain": [
              "False"
            ]
          },
          "metadata": {},
          "execution_count": 7
        }
      ]
    },
    {
      "cell_type": "code",
      "source": [
        "table_check('locations')"
      ],
      "metadata": {
        "colab": {
          "base_uri": "https://localhost:8080/"
        },
        "id": "p1IB60NfMuOX",
        "outputId": "368a14b2-422b-4fc1-fb5a-ee9753544f93"
      },
      "execution_count": 8,
      "outputs": [
        {
          "output_type": "execute_result",
          "data": {
            "text/plain": [
              "False"
            ]
          },
          "metadata": {},
          "execution_count": 8
        }
      ]
    },
    {
      "cell_type": "code",
      "source": [
        "table_check('jobs')"
      ],
      "metadata": {
        "colab": {
          "base_uri": "https://localhost:8080/"
        },
        "id": "YJ-BB-kOMt-t",
        "outputId": "ce428e1d-0050-414a-a832-3aac24389c68"
      },
      "execution_count": 9,
      "outputs": [
        {
          "output_type": "execute_result",
          "data": {
            "text/plain": [
              "False"
            ]
          },
          "metadata": {},
          "execution_count": 9
        }
      ]
    },
    {
      "cell_type": "code",
      "source": [
        "table_check('departments')"
      ],
      "metadata": {
        "colab": {
          "base_uri": "https://localhost:8080/"
        },
        "id": "f0orieQtNCui",
        "outputId": "a8b40960-c0e4-4f02-9d13-bab8d2e40907"
      },
      "execution_count": 10,
      "outputs": [
        {
          "output_type": "execute_result",
          "data": {
            "text/plain": [
              "False"
            ]
          },
          "metadata": {},
          "execution_count": 10
        }
      ]
    },
    {
      "cell_type": "code",
      "source": [
        "table_check('employees')"
      ],
      "metadata": {
        "colab": {
          "base_uri": "https://localhost:8080/"
        },
        "id": "IAKcuZ1jQfiJ",
        "outputId": "dc047632-12b0-4e85-8431-2fa982e00edd"
      },
      "execution_count": 11,
      "outputs": [
        {
          "output_type": "execute_result",
          "data": {
            "text/plain": [
              "False"
            ]
          },
          "metadata": {},
          "execution_count": 11
        }
      ]
    },
    {
      "cell_type": "code",
      "source": [
        "table_check('dependents')"
      ],
      "metadata": {
        "colab": {
          "base_uri": "https://localhost:8080/"
        },
        "id": "rp3sm-wUQirn",
        "outputId": "038e810d-5610-4a40-978d-99a38c8b3831"
      },
      "execution_count": 12,
      "outputs": [
        {
          "output_type": "execute_result",
          "data": {
            "text/plain": [
              "False"
            ]
          },
          "metadata": {},
          "execution_count": 12
        }
      ]
    },
    {
      "cell_type": "markdown",
      "source": [
        "---\n",
        "### Using `for loop` to check the existing tables"
      ],
      "metadata": {
        "id": "E0k7GLjzuHNm"
      }
    },
    {
      "cell_type": "code",
      "source": [
        "# Define a function to check if a table exists\n",
        "def table_check(table_name):\n",
        "    c.execute(\"\"\"SELECT count(name) FROM sqlite_master WHERE type='table' AND name='{}'\"\"\".format(table_name))\n",
        "    if c.fetchone()[0] == 1:\n",
        "        return True\n",
        "    return False\n",
        "\n",
        "# List of your seven table names\n",
        "tables = ['regions', 'countries', 'locations', 'jobs', 'departments', 'employees', 'dependents']\n",
        "\n",
        "# Loop through the table names and check if each table exists\n",
        "for table in tables:\n",
        "    if table_check(table):\n",
        "        print(f\"Table '{table}' exists.\")\n",
        "    else:\n",
        "        print(f\"Table '{table}' does not exist.\")\n"
      ],
      "metadata": {
        "id": "0HSZJgfhuH10",
        "colab": {
          "base_uri": "https://localhost:8080/"
        },
        "outputId": "6be94c5c-b925-4fb5-8896-9c5f08f0a11d"
      },
      "execution_count": 13,
      "outputs": [
        {
          "output_type": "stream",
          "name": "stdout",
          "text": [
            "Table 'regions' does not exist.\n",
            "Table 'countries' does not exist.\n",
            "Table 'locations' does not exist.\n",
            "Table 'jobs' does not exist.\n",
            "Table 'departments' does not exist.\n",
            "Table 'employees' does not exist.\n",
            "Table 'dependents' does not exist.\n"
          ]
        }
      ]
    },
    {
      "cell_type": "markdown",
      "source": [
        "___\n",
        "The tables don't exist in the database, so we create them."
      ],
      "metadata": {
        "id": "zdCeXGdPRZtQ"
      }
    },
    {
      "cell_type": "markdown",
      "source": [
        "---\n",
        "## Table Creation"
      ],
      "metadata": {
        "id": "a06yYD4JfRvQ"
      }
    },
    {
      "cell_type": "code",
      "source": [
        "# Check if a table exists, and create it if it doesn't\n",
        "if not table_check('regions'):\n",
        "  c.execute('''CREATE TABLE regions (\n",
        "\tregion_id INT IDENTITY(1,1) PRIMARY KEY,\n",
        "\tregion_name VARCHAR (25) DEFAULT NULL\n",
        ");''')"
      ],
      "metadata": {
        "id": "i_vorodvEo0v"
      },
      "execution_count": 14,
      "outputs": []
    },
    {
      "cell_type": "code",
      "source": [
        "# Check if a table exists, and create it if it doesn't\n",
        "if not table_check('countries'):\n",
        "  c.execute('''CREATE TABLE countries (\n",
        "\tcountry_id CHAR (2) PRIMARY KEY,\n",
        "\tcountry_name VARCHAR (40) DEFAULT NULL,\n",
        "\tregion_id INT NOT NULL,\n",
        "\tFOREIGN KEY (region_id) REFERENCES regions (region_id) ON DELETE CASCADE ON UPDATE CASCADE\n",
        ");\n",
        "''')"
      ],
      "metadata": {
        "id": "1p1FpRGnR0IV"
      },
      "execution_count": 15,
      "outputs": []
    },
    {
      "cell_type": "code",
      "source": [
        "# Check if a table exists, and create it if it doesn't\n",
        "if not table_check('locations'):\n",
        "  c.execute('''CREATE TABLE locations (\n",
        "\tlocation_id INT IDENTITY(1,1) PRIMARY KEY,\n",
        "\tstreet_address VARCHAR (40) DEFAULT NULL,\n",
        "\tpostal_code VARCHAR (12) DEFAULT NULL,\n",
        "\tcity VARCHAR (30) NOT NULL,\n",
        "\tstate_province VARCHAR (25) DEFAULT NULL,\n",
        "\tcountry_id CHAR (2) NOT NULL,\n",
        "\tFOREIGN KEY (country_id) REFERENCES countries (country_id) ON DELETE CASCADE ON UPDATE CASCADE\n",
        ");\n",
        "\n",
        "''')"
      ],
      "metadata": {
        "id": "9zZB991eV72i"
      },
      "execution_count": 16,
      "outputs": []
    },
    {
      "cell_type": "code",
      "source": [
        "# Check if a table exists, and create it if it doesn't\n",
        "if not table_check('jobs'):\n",
        "  c.execute('''CREATE TABLE jobs (\n",
        "\tjob_id INT IDENTITY(1,1) PRIMARY KEY,\n",
        "\tjob_title VARCHAR (35) NOT NULL,\n",
        "\tmin_salary DECIMAL (8, 2) DEFAULT NULL,\n",
        "\tmax_salary DECIMAL (8, 2) DEFAULT NULL\n",
        ");\n",
        "\n",
        "''')"
      ],
      "metadata": {
        "id": "bd8HV4pnSA-_"
      },
      "execution_count": 17,
      "outputs": []
    },
    {
      "cell_type": "code",
      "source": [
        "# Check if a table exists, and create it if it doesn't\n",
        "if not table_check('departments'):\n",
        "  c.execute('''CREATE TABLE departments (\n",
        "\tdepartment_id INT IDENTITY(1,1) PRIMARY KEY,\n",
        "\tdepartment_name VARCHAR (30) NOT NULL,\n",
        "\tlocation_id INT DEFAULT NULL,\n",
        "\tFOREIGN KEY (location_id) REFERENCES locations (location_id) ON DELETE CASCADE ON UPDATE CASCADE\n",
        ");\n",
        "\n",
        "\n",
        "''')"
      ],
      "metadata": {
        "id": "CHw3dpXUSCwS"
      },
      "execution_count": 18,
      "outputs": []
    },
    {
      "cell_type": "code",
      "source": [
        "# Check if a table exists, and create it if it doesn't\n",
        "if not table_check('employees'):\n",
        "  c.execute('''CREATE TABLE employees (\n",
        "\temployee_id INT IDENTITY(1,1) PRIMARY KEY,\n",
        "\tfirst_name VARCHAR (20) DEFAULT NULL,\n",
        "\tlast_name VARCHAR (25) NOT NULL,\n",
        "\temail VARCHAR (100) NOT NULL,\n",
        "\tphone_number VARCHAR (20) DEFAULT NULL,\n",
        "\thire_date DATE NOT NULL,\n",
        "\tjob_id INT NOT NULL,\n",
        "\tsalary DECIMAL (8, 2) NOT NULL,\n",
        "\tmanager_id INT DEFAULT NULL,\n",
        "\tdepartment_id INT DEFAULT NULL,\n",
        "\tFOREIGN KEY (job_id) REFERENCES jobs (job_id) ON DELETE CASCADE ON UPDATE CASCADE,\n",
        "\tFOREIGN KEY (department_id) REFERENCES departments (department_id) ON DELETE CASCADE ON UPDATE CASCADE,\n",
        "\tFOREIGN KEY (manager_id) REFERENCES employees (employee_id)\n",
        ");\n",
        "\n",
        "\n",
        "\n",
        "''')"
      ],
      "metadata": {
        "id": "N61c65LwSCJU"
      },
      "execution_count": 19,
      "outputs": []
    },
    {
      "cell_type": "code",
      "source": [
        "# Check if a table exists, and create it if it doesn't\n",
        "if not table_check('dependents'):\n",
        "  c.execute('''CREATE TABLE dependents (\n",
        "\tdependent_id INT IDENTITY(1,1) PRIMARY KEY,\n",
        "\tfirst_name VARCHAR (50) NOT NULL,\n",
        "\tlast_name VARCHAR (50) NOT NULL,\n",
        "\trelationship VARCHAR (25) NOT NULL,\n",
        "\temployee_id INT NOT NULL,\n",
        "\tFOREIGN KEY (employee_id) REFERENCES employees (employee_id) ON DELETE CASCADE ON UPDATE CASCADE\n",
        ");\n",
        "\n",
        "''')"
      ],
      "metadata": {
        "id": "r0t33IptYwYY"
      },
      "execution_count": 20,
      "outputs": []
    },
    {
      "cell_type": "code",
      "source": [
        "# Check if the tables exist again\n",
        "def table_check(table_name):\n",
        "    c.execute(\"\"\"SELECT count(name) FROM sqlite_master WHERE type='table' AND name='{}'\"\"\".format(table_name))\n",
        "    if c.fetchone()[0] == 1:\n",
        "        return True\n",
        "    return False\n",
        "\n",
        "# List of your seven table names\n",
        "tables = ['regions', 'countries', 'locations', 'jobs', 'departments', 'employees', 'dependents']\n",
        "\n",
        "# Loop through the table names and check if each table exists\n",
        "for table in tables:\n",
        "    if table_check(table):\n",
        "        print(f\"Table '{table}' exists.\")\n",
        "    else:\n",
        "        print(f\"Table '{table}' does not exist.\")\n"
      ],
      "metadata": {
        "colab": {
          "base_uri": "https://localhost:8080/"
        },
        "id": "iRIOOUXAryM-",
        "outputId": "c07b0241-5a96-4ca2-9b91-237a6fccfdbb"
      },
      "execution_count": 21,
      "outputs": [
        {
          "output_type": "stream",
          "name": "stdout",
          "text": [
            "Table 'regions' exists.\n",
            "Table 'countries' exists.\n",
            "Table 'locations' exists.\n",
            "Table 'jobs' exists.\n",
            "Table 'departments' exists.\n",
            "Table 'employees' exists.\n",
            "Table 'dependents' exists.\n"
          ]
        }
      ]
    },
    {
      "cell_type": "markdown",
      "source": [
        "### Inspecting table structure"
      ],
      "metadata": {
        "id": "4udeM07DSfJU"
      }
    },
    {
      "cell_type": "code",
      "source": [
        "c.execute(\"PRAGMA table_info(regions);\")\n",
        "for row in c.fetchall():\n",
        "    print(row)\n",
        "\n"
      ],
      "metadata": {
        "colab": {
          "base_uri": "https://localhost:8080/"
        },
        "id": "eqxcPRVWTHvJ",
        "outputId": "1b2f4e01-5823-4118-c514-8296dd4bd4fb"
      },
      "execution_count": 24,
      "outputs": [
        {
          "output_type": "stream",
          "name": "stdout",
          "text": [
            "(0, 'region_id', 'INT IDENTITY(1,1)', 0, None, 1)\n",
            "(1, 'region_name', 'VARCHAR (25)', 0, 'NULL', 0)\n"
          ]
        }
      ]
    },
    {
      "cell_type": "markdown",
      "source": [
        "---\n",
        "## Inserting Records"
      ],
      "metadata": {
        "id": "i63hk_YOeF36"
      }
    },
    {
      "cell_type": "markdown",
      "source": [
        "### REGIONS"
      ],
      "metadata": {
        "id": "MsmSouuUhFN4"
      }
    },
    {
      "cell_type": "code",
      "source": [
        "c.execute('''INSERT INTO regions(region_id,region_name) VALUES (1,'Europe');\n",
        "''')"
      ],
      "metadata": {
        "id": "PcGfSwf8eKgo",
        "colab": {
          "base_uri": "https://localhost:8080/"
        },
        "outputId": "04556e9d-7e50-47cf-cd30-a53c17850529"
      },
      "execution_count": 25,
      "outputs": [
        {
          "output_type": "execute_result",
          "data": {
            "text/plain": [
              "<sqlite3.Cursor at 0x7de7b573adc0>"
            ]
          },
          "metadata": {},
          "execution_count": 25
        }
      ]
    },
    {
      "cell_type": "code",
      "source": [
        "c.execute('''INSERT INTO regions(region_id,region_name) VALUES (2,'Americas');\n",
        "''')"
      ],
      "metadata": {
        "id": "5dgZP3eJYxZm",
        "colab": {
          "base_uri": "https://localhost:8080/"
        },
        "outputId": "f4a32d36-304c-4b75-c644-76248207d4b8"
      },
      "execution_count": 26,
      "outputs": [
        {
          "output_type": "execute_result",
          "data": {
            "text/plain": [
              "<sqlite3.Cursor at 0x7de7b573adc0>"
            ]
          },
          "metadata": {},
          "execution_count": 26
        }
      ]
    },
    {
      "cell_type": "code",
      "source": [
        "c.execute('''INSERT INTO regions(region_id,region_name) VALUES (3,'Asia');\n",
        "''')"
      ],
      "metadata": {
        "id": "XSjYo15mg24c",
        "colab": {
          "base_uri": "https://localhost:8080/"
        },
        "outputId": "e05d4790-b9e2-4a15-b418-2b1fb53fa9dc"
      },
      "execution_count": 27,
      "outputs": [
        {
          "output_type": "execute_result",
          "data": {
            "text/plain": [
              "<sqlite3.Cursor at 0x7de7b573adc0>"
            ]
          },
          "metadata": {},
          "execution_count": 27
        }
      ]
    },
    {
      "cell_type": "code",
      "source": [
        "c.execute('''INSERT INTO regions(region_id,region_name) VALUES (4,'Middle East and Africa');\n",
        "''')"
      ],
      "metadata": {
        "id": "zHg5VeXvg7H5",
        "colab": {
          "base_uri": "https://localhost:8080/"
        },
        "outputId": "b33b2642-c9b9-4f75-d5e5-21f77e38745e"
      },
      "execution_count": 28,
      "outputs": [
        {
          "output_type": "execute_result",
          "data": {
            "text/plain": [
              "<sqlite3.Cursor at 0x7de7b573adc0>"
            ]
          },
          "metadata": {},
          "execution_count": 28
        }
      ]
    },
    {
      "cell_type": "markdown",
      "source": [
        "### COUNTRIES"
      ],
      "metadata": {
        "id": "C08IpVV8hJpG"
      }
    },
    {
      "cell_type": "code",
      "source": [
        "c.execute('''INSERT INTO countries(country_id,country_name,region_id) VALUES ('AR','Argentina',2);\n",
        "''')"
      ],
      "metadata": {
        "id": "DZSDlQXxhUoD",
        "colab": {
          "base_uri": "https://localhost:8080/",
          "height": 158
        },
        "outputId": "644e06db-1871-46dd-e355-bdd37827ae31"
      },
      "execution_count": 31,
      "outputs": [
        {
          "output_type": "error",
          "ename": "IntegrityError",
          "evalue": "UNIQUE constraint failed: countries.country_id",
          "traceback": [
            "\u001b[0;31m---------------------------------------------------------------------------\u001b[0m",
            "\u001b[0;31mIntegrityError\u001b[0m                            Traceback (most recent call last)",
            "\u001b[0;32m<ipython-input-31-4c634e608428>\u001b[0m in \u001b[0;36m<cell line: 0>\u001b[0;34m()\u001b[0m\n\u001b[0;32m----> 1\u001b[0;31m c.execute('''INSERT INTO countries(country_id,country_name,region_id) VALUES ('AR','Argentina',2);\n\u001b[0m\u001b[1;32m      2\u001b[0m ''')\n",
            "\u001b[0;31mIntegrityError\u001b[0m: UNIQUE constraint failed: countries.country_id"
          ]
        }
      ]
    },
    {
      "cell_type": "code",
      "source": [
        "c.execute('''INSERT INTO countries(country_id,country_name,region_id) VALUES ('AU','Australia',3);\n",
        "''')"
      ],
      "metadata": {
        "id": "BvMd16eQhqgc",
        "colab": {
          "base_uri": "https://localhost:8080/",
          "height": 158
        },
        "outputId": "967da568-a24e-40c6-9184-7cfe7a634810"
      },
      "execution_count": 32,
      "outputs": [
        {
          "output_type": "error",
          "ename": "IntegrityError",
          "evalue": "UNIQUE constraint failed: countries.country_id",
          "traceback": [
            "\u001b[0;31m---------------------------------------------------------------------------\u001b[0m",
            "\u001b[0;31mIntegrityError\u001b[0m                            Traceback (most recent call last)",
            "\u001b[0;32m<ipython-input-32-d4e39cf34281>\u001b[0m in \u001b[0;36m<cell line: 0>\u001b[0;34m()\u001b[0m\n\u001b[0;32m----> 1\u001b[0;31m c.execute('''INSERT INTO countries(country_id,country_name,region_id) VALUES ('AU','Australia',3);\n\u001b[0m\u001b[1;32m      2\u001b[0m ''')\n",
            "\u001b[0;31mIntegrityError\u001b[0m: UNIQUE constraint failed: countries.country_id"
          ]
        }
      ]
    },
    {
      "cell_type": "code",
      "source": [
        "c.execute('''INSERT INTO countries(country_id,country_name,region_id) VALUES ('BE','Belgium',1);\n",
        "''')"
      ],
      "metadata": {
        "id": "Mf5mJ38micFE",
        "colab": {
          "base_uri": "https://localhost:8080/"
        },
        "outputId": "d5ca3270-035e-46c9-ce8a-d6bc0e6e1540"
      },
      "execution_count": 33,
      "outputs": [
        {
          "output_type": "execute_result",
          "data": {
            "text/plain": [
              "<sqlite3.Cursor at 0x7de7b573adc0>"
            ]
          },
          "metadata": {},
          "execution_count": 33
        }
      ]
    },
    {
      "cell_type": "code",
      "source": [
        "c.execute(\"INSERT INTO countries(country_id, country_name, region_id) VALUES ('BR', 'Brazil', 2);\")"
      ],
      "metadata": {
        "id": "w8drVi8Mib1d",
        "colab": {
          "base_uri": "https://localhost:8080/"
        },
        "outputId": "06c3e80f-abf2-42d3-84d1-ca4e3559aa80"
      },
      "execution_count": 34,
      "outputs": [
        {
          "output_type": "execute_result",
          "data": {
            "text/plain": [
              "<sqlite3.Cursor at 0x7de7b573adc0>"
            ]
          },
          "metadata": {},
          "execution_count": 34
        }
      ]
    },
    {
      "cell_type": "code",
      "source": [
        "c.execute(\"INSERT INTO countries(country_id, country_name, region_id) VALUES ('CA', 'Canada', 2);\")\n"
      ],
      "metadata": {
        "id": "KTJArCS2hkIx",
        "colab": {
          "base_uri": "https://localhost:8080/"
        },
        "outputId": "929c86d0-cf7a-4708-f4a8-3a27016d5e88"
      },
      "execution_count": 35,
      "outputs": [
        {
          "output_type": "execute_result",
          "data": {
            "text/plain": [
              "<sqlite3.Cursor at 0x7de7b573adc0>"
            ]
          },
          "metadata": {},
          "execution_count": 35
        }
      ]
    },
    {
      "cell_type": "code",
      "source": [
        "c.execute(\"INSERT INTO countries(country_id, country_name, region_id) VALUES ('CH', 'Switzerland', 1);\")\n"
      ],
      "metadata": {
        "id": "hCnzSjgghlQU",
        "colab": {
          "base_uri": "https://localhost:8080/"
        },
        "outputId": "5211b49f-5257-47bf-cb8b-9c2dd13e5747"
      },
      "execution_count": 36,
      "outputs": [
        {
          "output_type": "execute_result",
          "data": {
            "text/plain": [
              "<sqlite3.Cursor at 0x7de7b573adc0>"
            ]
          },
          "metadata": {},
          "execution_count": 36
        }
      ]
    },
    {
      "cell_type": "code",
      "source": [
        "c.execute(\"INSERT INTO countries(country_id, country_name, region_id) VALUES ('CN', 'China', 3);\")\n"
      ],
      "metadata": {
        "id": "cbvL38Rrhl-c",
        "colab": {
          "base_uri": "https://localhost:8080/"
        },
        "outputId": "79a09fad-6de1-43b5-a019-f813265b1305"
      },
      "execution_count": 37,
      "outputs": [
        {
          "output_type": "execute_result",
          "data": {
            "text/plain": [
              "<sqlite3.Cursor at 0x7de7b573adc0>"
            ]
          },
          "metadata": {},
          "execution_count": 37
        }
      ]
    },
    {
      "cell_type": "code",
      "source": [
        "\n",
        "c.execute(\"INSERT INTO countries(country_id, country_name, region_id) VALUES ('DE', 'Germany', 1);\")\n"
      ],
      "metadata": {
        "id": "yIoDPe3Qk7lO",
        "colab": {
          "base_uri": "https://localhost:8080/"
        },
        "outputId": "55976977-c5f8-4839-de83-4c602707fb4f"
      },
      "execution_count": 38,
      "outputs": [
        {
          "output_type": "execute_result",
          "data": {
            "text/plain": [
              "<sqlite3.Cursor at 0x7de7b573adc0>"
            ]
          },
          "metadata": {},
          "execution_count": 38
        }
      ]
    },
    {
      "cell_type": "code",
      "source": [
        "c.execute(\"INSERT INTO countries(country_id, country_name, region_id) VALUES ('DK', 'Denmark', 1);\")\n"
      ],
      "metadata": {
        "id": "tWk8NG-Mk75_",
        "colab": {
          "base_uri": "https://localhost:8080/"
        },
        "outputId": "605a27d9-f99d-4132-8ab5-b0528ba36b99"
      },
      "execution_count": 40,
      "outputs": [
        {
          "output_type": "execute_result",
          "data": {
            "text/plain": [
              "<sqlite3.Cursor at 0x7de7b573adc0>"
            ]
          },
          "metadata": {},
          "execution_count": 40
        }
      ]
    },
    {
      "cell_type": "code",
      "source": [
        "c.execute(\"INSERT INTO countries(country_id, country_name, region_id) VALUES ('EG', 'Egypt', 4);\")\n"
      ],
      "metadata": {
        "id": "o5O77pBBk8LV",
        "colab": {
          "base_uri": "https://localhost:8080/"
        },
        "outputId": "bb21a44e-49fd-47c9-92ee-70118412d94e"
      },
      "execution_count": 39,
      "outputs": [
        {
          "output_type": "execute_result",
          "data": {
            "text/plain": [
              "<sqlite3.Cursor at 0x7de7b573adc0>"
            ]
          },
          "metadata": {},
          "execution_count": 39
        }
      ]
    },
    {
      "cell_type": "code",
      "source": [
        "c.execute(\"INSERT INTO countries(country_id, country_name, region_id) VALUES ('FR', 'France', 1);\")\n"
      ],
      "metadata": {
        "id": "CN-xJ2Brk8cQ",
        "colab": {
          "base_uri": "https://localhost:8080/"
        },
        "outputId": "bf519114-481f-4bde-b56d-070f8050881c"
      },
      "execution_count": 41,
      "outputs": [
        {
          "output_type": "execute_result",
          "data": {
            "text/plain": [
              "<sqlite3.Cursor at 0x7de7b573adc0>"
            ]
          },
          "metadata": {},
          "execution_count": 41
        }
      ]
    },
    {
      "cell_type": "code",
      "source": [
        "c.execute(\"INSERT INTO countries(country_id, country_name, region_id) VALUES ('HK', 'HongKong', 3);\")\n"
      ],
      "metadata": {
        "id": "Pc-QpPQnk8qg",
        "colab": {
          "base_uri": "https://localhost:8080/"
        },
        "outputId": "14a9844e-2296-45f7-f732-6041bb14032c"
      },
      "execution_count": 42,
      "outputs": [
        {
          "output_type": "execute_result",
          "data": {
            "text/plain": [
              "<sqlite3.Cursor at 0x7de7b573adc0>"
            ]
          },
          "metadata": {},
          "execution_count": 42
        }
      ]
    },
    {
      "cell_type": "code",
      "source": [
        "c.execute(\"INSERT INTO countries(country_id, country_name, region_id) VALUES ('IL', 'Israel', 4);\")\n"
      ],
      "metadata": {
        "id": "XYDcRDb-k854",
        "colab": {
          "base_uri": "https://localhost:8080/"
        },
        "outputId": "62da6dee-6a8b-4b53-87a6-6c18be77199a"
      },
      "execution_count": 43,
      "outputs": [
        {
          "output_type": "execute_result",
          "data": {
            "text/plain": [
              "<sqlite3.Cursor at 0x7de7b573adc0>"
            ]
          },
          "metadata": {},
          "execution_count": 43
        }
      ]
    },
    {
      "cell_type": "code",
      "source": [
        "c.execute(\"INSERT INTO countries(country_id, country_name, region_id) VALUES ('IN', 'India', 3);\")\n"
      ],
      "metadata": {
        "id": "I4cWAD8Qk9GP",
        "colab": {
          "base_uri": "https://localhost:8080/"
        },
        "outputId": "734b16d0-0f88-42e1-e30c-9eab57908375"
      },
      "execution_count": 44,
      "outputs": [
        {
          "output_type": "execute_result",
          "data": {
            "text/plain": [
              "<sqlite3.Cursor at 0x7de7b573adc0>"
            ]
          },
          "metadata": {},
          "execution_count": 44
        }
      ]
    },
    {
      "cell_type": "code",
      "source": [
        "c.execute(\"INSERT INTO countries(country_id, country_name, region_id) VALUES ('IT', 'Italy', 1);\")\n"
      ],
      "metadata": {
        "id": "86wHkabqk9Sv",
        "colab": {
          "base_uri": "https://localhost:8080/"
        },
        "outputId": "fdbbf4aa-2e0e-434d-ac15-3b8e41ca5904"
      },
      "execution_count": 45,
      "outputs": [
        {
          "output_type": "execute_result",
          "data": {
            "text/plain": [
              "<sqlite3.Cursor at 0x7de7b573adc0>"
            ]
          },
          "metadata": {},
          "execution_count": 45
        }
      ]
    },
    {
      "cell_type": "code",
      "source": [
        "c.execute(\"INSERT INTO countries(country_id, country_name, region_id) VALUES ('JP', 'Japan', 3);\")\n"
      ],
      "metadata": {
        "id": "EKuFZ9vVk9eZ",
        "colab": {
          "base_uri": "https://localhost:8080/"
        },
        "outputId": "45794b4f-d443-459d-a103-431a082bba40"
      },
      "execution_count": 46,
      "outputs": [
        {
          "output_type": "execute_result",
          "data": {
            "text/plain": [
              "<sqlite3.Cursor at 0x7de7b573adc0>"
            ]
          },
          "metadata": {},
          "execution_count": 46
        }
      ]
    },
    {
      "cell_type": "code",
      "source": [
        "c.execute(\"INSERT INTO countries(country_id, country_name, region_id) VALUES ('KW', 'Kuwait', 4);\")\n"
      ],
      "metadata": {
        "id": "Eo1Ss8lCk9ql",
        "colab": {
          "base_uri": "https://localhost:8080/"
        },
        "outputId": "6122ba3e-6871-43e7-cbbb-30b1640751af"
      },
      "execution_count": 47,
      "outputs": [
        {
          "output_type": "execute_result",
          "data": {
            "text/plain": [
              "<sqlite3.Cursor at 0x7de7b573adc0>"
            ]
          },
          "metadata": {},
          "execution_count": 47
        }
      ]
    },
    {
      "cell_type": "code",
      "source": [
        "c.execute(\"INSERT INTO countries(country_id, country_name, region_id) VALUES ('MX', 'Mexico', 2);\")\n"
      ],
      "metadata": {
        "id": "NUxgyReHk92e",
        "colab": {
          "base_uri": "https://localhost:8080/"
        },
        "outputId": "2b9d7d81-1e0e-4441-e5b4-d43647579167"
      },
      "execution_count": 48,
      "outputs": [
        {
          "output_type": "execute_result",
          "data": {
            "text/plain": [
              "<sqlite3.Cursor at 0x7de7b573adc0>"
            ]
          },
          "metadata": {},
          "execution_count": 48
        }
      ]
    },
    {
      "cell_type": "code",
      "source": [
        "c.execute(\"INSERT INTO countries(country_id, country_name, region_id) VALUES ('NG', 'Nigeria', 4);\")\n"
      ],
      "metadata": {
        "id": "sTWTcRSFlb6w",
        "colab": {
          "base_uri": "https://localhost:8080/"
        },
        "outputId": "29f5f044-1277-4c8d-d81e-c79342370eff"
      },
      "execution_count": 49,
      "outputs": [
        {
          "output_type": "execute_result",
          "data": {
            "text/plain": [
              "<sqlite3.Cursor at 0x7de7b573adc0>"
            ]
          },
          "metadata": {},
          "execution_count": 49
        }
      ]
    },
    {
      "cell_type": "code",
      "source": [
        "c.execute(\"INSERT INTO countries(country_id, country_name, region_id) VALUES ('NL', 'Netherlands', 1);\")\n"
      ],
      "metadata": {
        "id": "mO8JC0KglbxC",
        "colab": {
          "base_uri": "https://localhost:8080/"
        },
        "outputId": "05a3d8ff-e16c-4f32-b760-d97db75c1bf2"
      },
      "execution_count": 50,
      "outputs": [
        {
          "output_type": "execute_result",
          "data": {
            "text/plain": [
              "<sqlite3.Cursor at 0x7de7b573adc0>"
            ]
          },
          "metadata": {},
          "execution_count": 50
        }
      ]
    },
    {
      "cell_type": "code",
      "source": [
        "c.execute(\"INSERT INTO countries(country_id, country_name, region_id) VALUES ('SG', 'Singapore', 3);\")\n"
      ],
      "metadata": {
        "id": "GJBFkTbJlboB",
        "colab": {
          "base_uri": "https://localhost:8080/"
        },
        "outputId": "c1cb84b4-e458-45ec-82b1-ca9ca3dc7811"
      },
      "execution_count": 51,
      "outputs": [
        {
          "output_type": "execute_result",
          "data": {
            "text/plain": [
              "<sqlite3.Cursor at 0x7de7b573adc0>"
            ]
          },
          "metadata": {},
          "execution_count": 51
        }
      ]
    },
    {
      "cell_type": "code",
      "source": [
        "c.execute(\"INSERT INTO countries(country_id, country_name, region_id) VALUES ('UK', 'United Kingdom', 1);\")\n"
      ],
      "metadata": {
        "id": "KiqcrQjRlbcm",
        "colab": {
          "base_uri": "https://localhost:8080/"
        },
        "outputId": "fd7db760-b786-4184-d0b8-8ad760358fff"
      },
      "execution_count": 52,
      "outputs": [
        {
          "output_type": "execute_result",
          "data": {
            "text/plain": [
              "<sqlite3.Cursor at 0x7de7b573adc0>"
            ]
          },
          "metadata": {},
          "execution_count": 52
        }
      ]
    },
    {
      "cell_type": "code",
      "source": [
        "c.execute(\"INSERT INTO countries(country_id, country_name, region_id) VALUES ('US', 'United States of America', 2);\")\n"
      ],
      "metadata": {
        "id": "H3yquIfQljom",
        "colab": {
          "base_uri": "https://localhost:8080/"
        },
        "outputId": "bd635513-108a-4930-80a1-dc1d7c6310fb"
      },
      "execution_count": 53,
      "outputs": [
        {
          "output_type": "execute_result",
          "data": {
            "text/plain": [
              "<sqlite3.Cursor at 0x7de7b573adc0>"
            ]
          },
          "metadata": {},
          "execution_count": 53
        }
      ]
    },
    {
      "cell_type": "code",
      "source": [
        "c.execute(\"INSERT INTO countries(country_id, country_name, region_id) VALUES ('ZM', 'Zambia', 4);\")\n"
      ],
      "metadata": {
        "id": "VuHsXaK9llil",
        "colab": {
          "base_uri": "https://localhost:8080/"
        },
        "outputId": "a411b0a6-494d-42ae-c6b2-234e7d79da59"
      },
      "execution_count": 54,
      "outputs": [
        {
          "output_type": "execute_result",
          "data": {
            "text/plain": [
              "<sqlite3.Cursor at 0x7de7b573adc0>"
            ]
          },
          "metadata": {},
          "execution_count": 54
        }
      ]
    },
    {
      "cell_type": "code",
      "source": [
        "c.execute(\"INSERT INTO countries(country_id, country_name, region_id) VALUES ('ZW', 'Zimbabwe', 4);\")\n"
      ],
      "metadata": {
        "id": "A9piYCVTlnbn",
        "colab": {
          "base_uri": "https://localhost:8080/"
        },
        "outputId": "c4905781-205e-4925-8f11-91a4232830d3"
      },
      "execution_count": 55,
      "outputs": [
        {
          "output_type": "execute_result",
          "data": {
            "text/plain": [
              "<sqlite3.Cursor at 0x7de7b573adc0>"
            ]
          },
          "metadata": {},
          "execution_count": 55
        }
      ]
    },
    {
      "cell_type": "markdown",
      "source": [
        "---\n",
        "### Insert with `for loop` and `parameterized queries`\n",
        " A better approach to inserting records is using for loop and parameterized queries\n",
        " So, going forward, we will use for loop to execute insert"
      ],
      "metadata": {
        "id": "qLTbywBrm6N-"
      }
    },
    {
      "cell_type": "markdown",
      "source": [
        "### Regions"
      ],
      "metadata": {
        "id": "sQ3GXrhptA_n"
      }
    },
    {
      "cell_type": "code",
      "source": [
        "# List of regions as tuples (region_id, region_name)\n",
        "regions = [\n",
        "    (1, 'Europe'),\n",
        "    (2, 'Americas'),\n",
        "    (3, 'Asia'),\n",
        "    (4, 'Middle East and Africa')\n",
        "]\n",
        "\n",
        "# Loop through the regions list and execute the insert query\n",
        "for region in regions:\n",
        "    c.execute(\"INSERT INTO regions (region_id, region_name) VALUES (?, ?);\", region)\n"
      ],
      "metadata": {
        "id": "9XcetNg7oXzi",
        "colab": {
          "base_uri": "https://localhost:8080/",
          "height": 176
        },
        "outputId": "cf18fc41-8fa9-439a-9eeb-4574917889ab"
      },
      "execution_count": 56,
      "outputs": [
        {
          "output_type": "error",
          "ename": "IntegrityError",
          "evalue": "UNIQUE constraint failed: regions.region_id",
          "traceback": [
            "\u001b[0;31m---------------------------------------------------------------------------\u001b[0m",
            "\u001b[0;31mIntegrityError\u001b[0m                            Traceback (most recent call last)",
            "\u001b[0;32m<ipython-input-56-64be71e9b1c4>\u001b[0m in \u001b[0;36m<cell line: 0>\u001b[0;34m()\u001b[0m\n\u001b[1;32m      9\u001b[0m \u001b[0;31m# Loop through the regions list and execute the insert query\u001b[0m\u001b[0;34m\u001b[0m\u001b[0;34m\u001b[0m\u001b[0m\n\u001b[1;32m     10\u001b[0m \u001b[0;32mfor\u001b[0m \u001b[0mregion\u001b[0m \u001b[0;32min\u001b[0m \u001b[0mregions\u001b[0m\u001b[0;34m:\u001b[0m\u001b[0;34m\u001b[0m\u001b[0;34m\u001b[0m\u001b[0m\n\u001b[0;32m---> 11\u001b[0;31m     \u001b[0mc\u001b[0m\u001b[0;34m.\u001b[0m\u001b[0mexecute\u001b[0m\u001b[0;34m(\u001b[0m\u001b[0;34m\"INSERT INTO regions (region_id, region_name) VALUES (?, ?);\"\u001b[0m\u001b[0;34m,\u001b[0m \u001b[0mregion\u001b[0m\u001b[0;34m)\u001b[0m\u001b[0;34m\u001b[0m\u001b[0;34m\u001b[0m\u001b[0m\n\u001b[0m",
            "\u001b[0;31mIntegrityError\u001b[0m: UNIQUE constraint failed: regions.region_id"
          ]
        }
      ]
    },
    {
      "cell_type": "markdown",
      "source": [
        "The table `Regions` is already populated using the first method."
      ],
      "metadata": {
        "id": "cr2TXpkIxSvF"
      }
    },
    {
      "cell_type": "markdown",
      "source": [
        "### Countries"
      ],
      "metadata": {
        "id": "avhQvutns7tN"
      }
    },
    {
      "cell_type": "code",
      "source": [
        "# List of countries as tuples (country_id, country_name, region_id)\n",
        "countries = [\n",
        "    ('AR', 'Argentina', 2),\n",
        "    ('AU', 'Australia', 3),\n",
        "    ('BE', 'Belgium', 1),\n",
        "    ('BR', 'Brazil', 2),\n",
        "    ('CA', 'Canada', 2),\n",
        "    ('CH', 'Switzerland', 1),\n",
        "    ('CN', 'China', 3),\n",
        "    ('DE', 'Germany', 1),\n",
        "    ('DK', 'Denmark', 1),\n",
        "    ('EG', 'Egypt', 4),\n",
        "    ('FR', 'France', 1),\n",
        "    ('HK', 'HongKong', 3),\n",
        "    ('IL', 'Israel', 4),\n",
        "    ('IN', 'India', 3),\n",
        "    ('IT', 'Italy', 1),\n",
        "    ('JP', 'Japan', 3),\n",
        "    ('KW', 'Kuwait', 4),\n",
        "    ('MX', 'Mexico', 2),\n",
        "    ('NG', 'Nigeria', 4),\n",
        "    ('NL', 'Netherlands', 1),\n",
        "    ('SG', 'Singapore', 3),\n",
        "    ('UK', 'United Kingdom', 1),\n",
        "    ('US', 'United States of America', 2),\n",
        "    ('ZM', 'Zambia', 4),\n",
        "    ('ZW', 'Zimbabwe', 4)\n",
        "]\n",
        "\n",
        "# Loop through the countries list and execute the insert query\n",
        "for country in countries:\n",
        "    c.execute(\"INSERT INTO countries (country_id, country_name, region_id) VALUES (?, ?, ?);\", country)\n"
      ],
      "metadata": {
        "id": "oKcGa6ZcmrIx",
        "colab": {
          "base_uri": "https://localhost:8080/",
          "height": 176
        },
        "outputId": "4ea127ca-7e21-4129-c05f-1541af0b5dc3"
      },
      "execution_count": 57,
      "outputs": [
        {
          "output_type": "error",
          "ename": "IntegrityError",
          "evalue": "UNIQUE constraint failed: countries.country_id",
          "traceback": [
            "\u001b[0;31m---------------------------------------------------------------------------\u001b[0m",
            "\u001b[0;31mIntegrityError\u001b[0m                            Traceback (most recent call last)",
            "\u001b[0;32m<ipython-input-57-12c8bd8372dd>\u001b[0m in \u001b[0;36m<cell line: 0>\u001b[0;34m()\u001b[0m\n\u001b[1;32m     30\u001b[0m \u001b[0;31m# Loop through the countries list and execute the insert query\u001b[0m\u001b[0;34m\u001b[0m\u001b[0;34m\u001b[0m\u001b[0m\n\u001b[1;32m     31\u001b[0m \u001b[0;32mfor\u001b[0m \u001b[0mcountry\u001b[0m \u001b[0;32min\u001b[0m \u001b[0mcountries\u001b[0m\u001b[0;34m:\u001b[0m\u001b[0;34m\u001b[0m\u001b[0;34m\u001b[0m\u001b[0m\n\u001b[0;32m---> 32\u001b[0;31m     \u001b[0mc\u001b[0m\u001b[0;34m.\u001b[0m\u001b[0mexecute\u001b[0m\u001b[0;34m(\u001b[0m\u001b[0;34m\"INSERT INTO countries (country_id, country_name, region_id) VALUES (?, ?, ?);\"\u001b[0m\u001b[0;34m,\u001b[0m \u001b[0mcountry\u001b[0m\u001b[0;34m)\u001b[0m\u001b[0;34m\u001b[0m\u001b[0;34m\u001b[0m\u001b[0m\n\u001b[0m",
            "\u001b[0;31mIntegrityError\u001b[0m: UNIQUE constraint failed: countries.country_id"
          ]
        }
      ]
    },
    {
      "cell_type": "markdown",
      "source": [
        "The table `Countries` is already populated using the first method."
      ],
      "metadata": {
        "id": "AJT9H6Ykxjqe"
      }
    },
    {
      "cell_type": "markdown",
      "source": [
        "### Locations"
      ],
      "metadata": {
        "id": "25CGC2pio2f6"
      }
    },
    {
      "cell_type": "code",
      "source": [
        "# List of locations as tuples (location_id, street_address, postal_code, city, state_province, country_id)\n",
        "locations = [\n",
        "    (1400, '2014 Jabberwocky Rd', '26192', 'Southlake', 'Texas', 'US'),\n",
        "    (1500, '2011 Interiors Blvd', '99236', 'South San Francisco', 'California', 'US'),\n",
        "    (1700, '2004 Charade Rd', '98199', 'Seattle', 'Washington', 'US'),\n",
        "    (1800, '147 Spadina Ave', 'M5V 2L7', 'Toronto', 'Ontario', 'CA'),\n",
        "    (2400, '8204 Arthur St', None, 'London', None, 'UK'),\n",
        "    (2500, 'Magdalen Centre, The Oxford Science Park', 'OX9 9ZB', 'Oxford', 'Oxford', 'UK'),\n",
        "    (2700, 'Schwanthalerstr. 7031', '80925', 'Munich', 'Bavaria', 'DE')\n",
        "]\n",
        "\n",
        "# Loop through the locations list and execute the insert query\n",
        "for location in locations:\n",
        "    c.execute(\"\"\"\n",
        "        INSERT INTO locations (location_id, street_address, postal_code, city, state_province, country_id)\n",
        "        VALUES (?, ?, ?, ?, ?, ?);\n",
        "    \"\"\", location)\n"
      ],
      "metadata": {
        "id": "9H_pgEpAo2En"
      },
      "execution_count": 58,
      "outputs": []
    },
    {
      "cell_type": "markdown",
      "source": [
        "### Jobs"
      ],
      "metadata": {
        "id": "3IkZRVscsNjj"
      }
    },
    {
      "cell_type": "code",
      "source": [
        "# List of jobs as tuples (job_id, job_title, min_salary, max_salary)\n",
        "jobs = [\n",
        "    (1, 'Public Accountant', 4200.00, 9000.00),\n",
        "    (2, 'Accounting Manager', 8200.00, 16000.00),\n",
        "    (3, 'Administration Assistant', 3000.00, 6000.00),\n",
        "    (4, 'President', 20000.00, 40000.00),\n",
        "    (5, 'Administration Vice President', 15000.00, 30000.00),\n",
        "    (6, 'Accountant', 4200.00, 9000.00),\n",
        "    (7, 'Finance Manager', 8200.00, 16000.00),\n",
        "    (8, 'Human Resources Representative', 4000.00, 9000.00),\n",
        "    (9, 'Programmer', 4000.00, 10000.00),\n",
        "    (10, 'Marketing Manager', 9000.00, 15000.00),\n",
        "    (11, 'Marketing Representative', 4000.00, 9000.00),\n",
        "    (12, 'Public Relations Representative', 4500.00, 10500.00),\n",
        "    (13, 'Purchasing Clerk', 2500.00, 5500.00),\n",
        "    (14, 'Purchasing Manager', 8000.00, 15000.00),\n",
        "    (15, 'Sales Manager', 10000.00, 20000.00),\n",
        "    (16, 'Sales Representative', 6000.00, 12000.00),\n",
        "    (17, 'Shipping Clerk', 2500.00, 5500.00),\n",
        "    (18, 'Stock Clerk', 2000.00, 5000.00),\n",
        "    (19, 'Stock Manager', 5500.00, 8500.00)\n",
        "]\n",
        "\n",
        "# Loop through the jobs list and execute the insert query\n",
        "for job in jobs:\n",
        "    c.execute(\"\"\"\n",
        "        INSERT INTO jobs (job_id, job_title, min_salary, max_salary)\n",
        "        VALUES (?, ?, ?, ?);\n",
        "    \"\"\", job)\n"
      ],
      "metadata": {
        "id": "2VaeSloumqu2"
      },
      "execution_count": 59,
      "outputs": []
    },
    {
      "cell_type": "markdown",
      "source": [
        "### Departments"
      ],
      "metadata": {
        "id": "2vXjSgY4shmh"
      }
    },
    {
      "cell_type": "code",
      "source": [
        "# List of departments as tuples (department_id, department_name, location_id)\n",
        "departments = [\n",
        "    (1, 'Administration', 1700),\n",
        "    (2, 'Marketing', 1800),\n",
        "    (3, 'Purchasing', 1700),\n",
        "    (4, 'Human Resources', 2400),\n",
        "    (5, 'Shipping', 1500),\n",
        "    (6, 'IT', 1400),\n",
        "    (7, 'Public Relations', 2700),\n",
        "    (8, 'Sales', 2500),\n",
        "    (9, 'Executive', 1700),\n",
        "    (10, 'Finance', 1700),\n",
        "    (11, 'Accounting', 1700)\n",
        "]\n",
        "\n",
        "# Loop through the departments list and execute the insert query\n",
        "for department in departments:\n",
        "    c.execute(\"\"\"\n",
        "        INSERT INTO departments (department_id, department_name, location_id)\n",
        "        VALUES (?, ?, ?);\n",
        "    \"\"\", department)\n"
      ],
      "metadata": {
        "id": "PfgTia9epqRX"
      },
      "execution_count": 60,
      "outputs": []
    },
    {
      "cell_type": "markdown",
      "source": [
        "### Employees"
      ],
      "metadata": {
        "id": "MqBT3tPMhmPb"
      }
    },
    {
      "cell_type": "code",
      "source": [
        "# List of employees as tuples\n",
        "employees = [\n",
        "    (100, 'Steven', 'King', 'steven.king@sqltutorial.org', '515.123.4567', '1987-06-17', 4, 24000.00, None, 9),\n",
        "    (101, 'Neena', 'Kochhar', 'neena.kochhar@sqltutorial.org', '515.123.4568', '1989-09-21', 5, 17000.00, 100, 9),\n",
        "    (102, 'Lex', 'De Haan', 'lex.de haan@sqltutorial.org', '515.123.4569', '1993-01-13', 5, 17000.00, 100, 9),\n",
        "    (103, 'Alexander', 'Hunold', 'alexander.hunold@sqltutorial.org', '590.423.4567', '1990-01-03', 9, 9000.00, 102, 6),\n",
        "    (104, 'Bruce', 'Ernst', 'bruce.ernst@sqltutorial.org', '590.423.4568', '1991-05-21', 9, 6000.00, 103, 6),\n",
        "    (105, 'David', 'Austin', 'david.austin@sqltutorial.org', '590.423.4569', '1997-06-25', 9, 4800.00, 103, 6),\n",
        "    (106, 'Valli', 'Pataballa', 'valli.pataballa@sqltutorial.org', '590.423.4560', '1998-02-05', 9, 4800.00, 103, 6),\n",
        "    (107, 'Diana', 'Lorentz', 'diana.lorentz@sqltutorial.org', '590.423.5567', '1999-02-07', 9, 4200.00, 103, 6),\n",
        "    (108, 'Nancy', 'Greenberg', 'nancy.greenberg@sqltutorial.org', '515.124.4569', '1994-08-17', 7, 12000.00, 101, 10),\n",
        "    (109, 'Daniel', 'Faviet', 'daniel.faviet@sqltutorial.org', '515.124.4169', '1994-08-16', 6, 9000.00, 108, 10),\n",
        "    (110, 'John', 'Chen', 'john.chen@sqltutorial.org', '515.124.4269', '1997-09-28', 6, 8200.00, 108, 10),\n",
        "    (111, 'Ismael', 'Sciarra', 'ismael.sciarra@sqltutorial.org', '515.124.4369', '1997-09-30', 6, 7700.00, 108, 10),\n",
        "    (112, 'Jose Manuel', 'Urman', 'jose manuel.urman@sqltutorial.org', '515.124.4469', '1998-03-07', 6, 7800.00, 108, 10),\n",
        "    (113, 'Luis', 'Popp', 'luis.popp@sqltutorial.org', '515.124.4567', '1999-12-07', 6, 6900.00, 108, 10),\n",
        "    (114, 'Den', 'Raphaely', 'den.raphaely@sqltutorial.org', '515.127.4561', '1994-12-07', 14, 11000.00, 100, 3),\n",
        "    (115, 'Alexander', 'Khoo', 'alexander.khoo@sqltutorial.org', '515.127.4562', '1995-05-18', 13, 3100.00, 114, 3),\n",
        "    (116, 'Shelli', 'Baida', 'shelli.baida@sqltutorial.org', '515.127.4563', '1997-12-24', 13, 2900.00, 114, 3),\n",
        "    (117, 'Sigal', 'Tobias', 'sigal.tobias@sqltutorial.org', '515.127.4564', '1997-07-24', 13, 2800.00, 114, 3),\n",
        "    (118, 'Guy', 'Himuro', 'guy.himuro@sqltutorial.org', '515.127.4565', '1998-11-15', 13, 2600.00, 114, 3),\n",
        "    (119, 'Karen', 'Colmenares', 'karen.colmenares@sqltutorial.org', '515.127.4566', '1999-08-10', 13, 2500.00, 114, 3),\n",
        "    (120, 'Matthew', 'Weiss', 'matthew.weiss@sqltutorial.org', '650.123.1234', '1996-07-18', 19, 8000.00, 100, 5),\n",
        "    (121, 'Adam', 'Fripp', 'adam.fripp@sqltutorial.org', '650.123.2234', '1997-04-10', 19, 8200.00, 100, 5),\n",
        "    (122, 'Payam', 'Kaufling', 'payam.kaufling@sqltutorial.org', '650.123.3234', '1995-05-01', 19, 7900.00, 100, 5),\n",
        "    (123, 'Shanta', 'Vollman', 'shanta.vollman@sqltutorial.org', '650.123.4234', '1997-10-10', 19, 6500.00, 100, 5),\n",
        "    (126, 'Irene', 'Mikkilineni', 'irene.mikkilineni@sqltutorial.org', '650.124.1224', '1998-09-28', 18, 2700.00, 120, 5),\n",
        "    (145, 'John', 'Russell', 'john.russell@sqltutorial.org', None, '1996-10-01', 15, 14000.00, 100, 8),\n",
        "    (146, 'Karen', 'Partners', 'karen.partners@sqltutorial.org', None, '1997-01-05', 15, 13500.00, 100, 8),\n",
        "    (176, 'Jonathon', 'Taylor', 'jonathon.taylor@sqltutorial.org', None, '1998-03-24', 16, 8600.00, 100, 8),\n",
        "    (177, 'Jack', 'Livingston', 'jack.livingston@sqltutorial.org', None, '1998-04-23', 16, 8400.00, 100, 8),\n",
        "    (178, 'Kimberely', 'Grant', 'kimberely.grant@sqltutorial.org', None, '1999-05-24', 16, 7000.00, 100, 8),\n",
        "    (179, 'Charles', 'Johnson', 'charles.johnson@sqltutorial.org', None, '2000-01-04', 16, 6200.00, 100, 8),\n",
        "    (192, 'Sarah', 'Bell', 'sarah.bell@sqltutorial.org', '650.501.1876', '1996-02-04', 17, 4000.00, 123, 5),\n",
        "    (193, 'Britney', 'Everett', 'britney.everett@sqltutorial.org', '650.501.2876', '1997-03-03', 17, 3900.00, 123, 5),\n",
        "    (200, 'Jennifer', 'Whalen', 'jennifer.whalen@sqltutorial.org', '515.123.4444', '1987-09-17', 3, 4400.00, 101, 1),\n",
        "    (201, 'Michael', 'Hartstein', 'michael.hartstein@sqltutorial.org', '515.123.5555', '1996-02-17', 10, 13000.00, 100, 2),\n",
        "    (202, 'Pat', 'Fay', 'pat.fay@sqltutorial.org', '603.123.6666', '1997-08-17', 11, 6000.00, 201, 2),\n",
        "    (203, 'Susan', 'Mavris', 'susan.mavris@sqltutorial.org', '515.123.7777', '1994-06-07', 8, 6500.00, 101, 4),\n",
        "    (204, 'Hermann', 'Baer', 'hermann.baer@sqltutorial.org', '515.123.8888', '1994-06-07', 12, 10000.00, 101, 7),\n",
        "    (205, 'Shelley', 'Higgins', 'shelley.higgins@sqltutorial.org', '515.123.8080', '1994-06-07', 2, 12000.00, 101, 11),\n",
        "    (206, 'William', 'Gietz', 'william.gietz@sqltutorial.org', '515.123.8181', '1994-06-07', 1, 8300.00, 205, 11)\n",
        "]\n",
        "\n",
        "# Loop through the employees list and execute the INSERT query\n",
        "for employee in employees:\n",
        "    c.execute(\"\"\"\n",
        "        INSERT INTO employees (\n",
        "            employee_id, first_name, last_name, email, phone_number, hire_date, job_id, salary, manager_id, department_id\n",
        "        ) VALUES (?, ?, ?, ?, ?, ?, ?, ?, ?, ?);\n",
        "    \"\"\", employee)\n"
      ],
      "metadata": {
        "id": "zqkBrJiIhm_L"
      },
      "execution_count": 61,
      "outputs": []
    },
    {
      "cell_type": "markdown",
      "source": [
        "### Dependents"
      ],
      "metadata": {
        "id": "2VKgPDDpsDIf"
      }
    },
    {
      "cell_type": "code",
      "source": [
        "dependents = [\n",
        "    (1, 'Penelope', 'Gietz', 'Child', 206),\n",
        "    (2, 'Nick', 'Higgins', 'Child', 205),\n",
        "    (3, 'Ed', 'Whalen', 'Child', 200),\n",
        "    (4, 'Jennifer', 'King', 'Child', 100),\n",
        "    (5, 'Johnny', 'Kochhar', 'Child', 101),\n",
        "    (6, 'Bette', 'De Haan', 'Child', 102),\n",
        "    (7, 'Grace', 'Faviet', 'Child', 109),\n",
        "    (8, 'Matthew', 'Chen', 'Child', 110),\n",
        "    (9, 'Joe', 'Sciarra', 'Child', 111),\n",
        "    (10, 'Christian', 'Urman', 'Child', 112),\n",
        "    (11, 'Zero', 'Popp', 'Child', 113),\n",
        "    (12, 'Karl', 'Greenberg', 'Child', 108),\n",
        "    (13, 'Uma', 'Mavris', 'Child', 203),\n",
        "    (14, 'Vivien', 'Hunold', 'Child', 103),\n",
        "    (15, 'Cuba', 'Ernst', 'Child', 104),\n",
        "    (16, 'Fred', 'Austin', 'Child', 105),\n",
        "    (17, 'Helen', 'Pataballa', 'Child', 106),\n",
        "    (18, 'Dan', 'Lorentz', 'Child', 107),\n",
        "    (19, 'Bob', 'Hartstein', 'Child', 201),\n",
        "    (20, 'Lucille', 'Fay', 'Child', 202),\n",
        "    (21, 'Kirsten', 'Baer', 'Child', 204),\n",
        "    (22, 'Elvis', 'Khoo', 'Child', 115),\n",
        "    (23, 'Sandra', 'Baida', 'Child', 116),\n",
        "    (24, 'Cameron', 'Tobias', 'Child', 117),\n",
        "    (25, 'Kevin', 'Himuro', 'Child', 118),\n",
        "    (26, 'Rip', 'Colmenares', 'Child', 119),\n",
        "    (27, 'Julia', 'Raphaely', 'Child', 114),\n",
        "    (28, 'Woody', 'Russell', 'Child', 145),\n",
        "    (29, 'Alec', 'Partners', 'Child', 146),\n",
        "    (30, 'Sandra', 'Taylor', 'Child', 176)\n",
        "]\n",
        "\n",
        "for dependent in dependents:\n",
        "       c.execute(\"\"\"\n",
        "        INSERT INTO dependents (dependent_id,first_name,last_name,relationship,employee_id) VALUES (?, ?, ?, ?, ?);\n",
        "    \"\"\", dependent)\n"
      ],
      "metadata": {
        "id": "GjrDBjtkhnRl"
      },
      "execution_count": 62,
      "outputs": []
    },
    {
      "cell_type": "markdown",
      "source": [
        "## Select"
      ],
      "metadata": {
        "id": "3LkkCg0dQvhQ"
      }
    },
    {
      "cell_type": "markdown",
      "source": [
        " Create a function to fetch records from the tables"
      ],
      "metadata": {
        "id": "SfMHecPlaBsj"
      }
    },
    {
      "cell_type": "code",
      "source": [
        "def get_employee():\n",
        "  c.execute('''select * from employees;''')\n",
        "  data = []\n",
        "  for row in c.fetchall():\n",
        "      data.append(row)\n",
        "  return data"
      ],
      "metadata": {
        "id": "cH-sBxH3RCcJ"
      },
      "execution_count": 63,
      "outputs": []
    },
    {
      "cell_type": "code",
      "source": [
        "def get_job():\n",
        "   c.execute('''select * from jobs where job_id in (2, 7, 12);''')\n",
        "   data = []\n",
        "   for row in c.fetchall():\n",
        "      data.append(row)\n",
        "   return data"
      ],
      "metadata": {
        "id": "ZUjXvFxUaHjB"
      },
      "execution_count": 64,
      "outputs": []
    },
    {
      "cell_type": "markdown",
      "source": [
        "Method 1 - Use the defined function"
      ],
      "metadata": {
        "id": "3QfZqpX7ZJAG"
      }
    },
    {
      "cell_type": "code",
      "source": [
        "print(get_employee())\n"
      ],
      "metadata": {
        "colab": {
          "base_uri": "https://localhost:8080/"
        },
        "id": "zu5pQiOTRCYV",
        "outputId": "dca0703e-c635-4bb0-c5c4-b20f26049dcc"
      },
      "execution_count": 65,
      "outputs": [
        {
          "output_type": "stream",
          "name": "stdout",
          "text": [
            "[(100, 'Steven', 'King', 'steven.king@sqltutorial.org', '515.123.4567', '1987-06-17', 4, 24000, None, 9), (101, 'Neena', 'Kochhar', 'neena.kochhar@sqltutorial.org', '515.123.4568', '1989-09-21', 5, 17000, 100, 9), (102, 'Lex', 'De Haan', 'lex.de haan@sqltutorial.org', '515.123.4569', '1993-01-13', 5, 17000, 100, 9), (103, 'Alexander', 'Hunold', 'alexander.hunold@sqltutorial.org', '590.423.4567', '1990-01-03', 9, 9000, 102, 6), (104, 'Bruce', 'Ernst', 'bruce.ernst@sqltutorial.org', '590.423.4568', '1991-05-21', 9, 6000, 103, 6), (105, 'David', 'Austin', 'david.austin@sqltutorial.org', '590.423.4569', '1997-06-25', 9, 4800, 103, 6), (106, 'Valli', 'Pataballa', 'valli.pataballa@sqltutorial.org', '590.423.4560', '1998-02-05', 9, 4800, 103, 6), (107, 'Diana', 'Lorentz', 'diana.lorentz@sqltutorial.org', '590.423.5567', '1999-02-07', 9, 4200, 103, 6), (108, 'Nancy', 'Greenberg', 'nancy.greenberg@sqltutorial.org', '515.124.4569', '1994-08-17', 7, 12000, 101, 10), (109, 'Daniel', 'Faviet', 'daniel.faviet@sqltutorial.org', '515.124.4169', '1994-08-16', 6, 9000, 108, 10), (110, 'John', 'Chen', 'john.chen@sqltutorial.org', '515.124.4269', '1997-09-28', 6, 8200, 108, 10), (111, 'Ismael', 'Sciarra', 'ismael.sciarra@sqltutorial.org', '515.124.4369', '1997-09-30', 6, 7700, 108, 10), (112, 'Jose Manuel', 'Urman', 'jose manuel.urman@sqltutorial.org', '515.124.4469', '1998-03-07', 6, 7800, 108, 10), (113, 'Luis', 'Popp', 'luis.popp@sqltutorial.org', '515.124.4567', '1999-12-07', 6, 6900, 108, 10), (114, 'Den', 'Raphaely', 'den.raphaely@sqltutorial.org', '515.127.4561', '1994-12-07', 14, 11000, 100, 3), (115, 'Alexander', 'Khoo', 'alexander.khoo@sqltutorial.org', '515.127.4562', '1995-05-18', 13, 3100, 114, 3), (116, 'Shelli', 'Baida', 'shelli.baida@sqltutorial.org', '515.127.4563', '1997-12-24', 13, 2900, 114, 3), (117, 'Sigal', 'Tobias', 'sigal.tobias@sqltutorial.org', '515.127.4564', '1997-07-24', 13, 2800, 114, 3), (118, 'Guy', 'Himuro', 'guy.himuro@sqltutorial.org', '515.127.4565', '1998-11-15', 13, 2600, 114, 3), (119, 'Karen', 'Colmenares', 'karen.colmenares@sqltutorial.org', '515.127.4566', '1999-08-10', 13, 2500, 114, 3), (120, 'Matthew', 'Weiss', 'matthew.weiss@sqltutorial.org', '650.123.1234', '1996-07-18', 19, 8000, 100, 5), (121, 'Adam', 'Fripp', 'adam.fripp@sqltutorial.org', '650.123.2234', '1997-04-10', 19, 8200, 100, 5), (122, 'Payam', 'Kaufling', 'payam.kaufling@sqltutorial.org', '650.123.3234', '1995-05-01', 19, 7900, 100, 5), (123, 'Shanta', 'Vollman', 'shanta.vollman@sqltutorial.org', '650.123.4234', '1997-10-10', 19, 6500, 100, 5), (126, 'Irene', 'Mikkilineni', 'irene.mikkilineni@sqltutorial.org', '650.124.1224', '1998-09-28', 18, 2700, 120, 5), (145, 'John', 'Russell', 'john.russell@sqltutorial.org', None, '1996-10-01', 15, 14000, 100, 8), (146, 'Karen', 'Partners', 'karen.partners@sqltutorial.org', None, '1997-01-05', 15, 13500, 100, 8), (176, 'Jonathon', 'Taylor', 'jonathon.taylor@sqltutorial.org', None, '1998-03-24', 16, 8600, 100, 8), (177, 'Jack', 'Livingston', 'jack.livingston@sqltutorial.org', None, '1998-04-23', 16, 8400, 100, 8), (178, 'Kimberely', 'Grant', 'kimberely.grant@sqltutorial.org', None, '1999-05-24', 16, 7000, 100, 8), (179, 'Charles', 'Johnson', 'charles.johnson@sqltutorial.org', None, '2000-01-04', 16, 6200, 100, 8), (192, 'Sarah', 'Bell', 'sarah.bell@sqltutorial.org', '650.501.1876', '1996-02-04', 17, 4000, 123, 5), (193, 'Britney', 'Everett', 'britney.everett@sqltutorial.org', '650.501.2876', '1997-03-03', 17, 3900, 123, 5), (200, 'Jennifer', 'Whalen', 'jennifer.whalen@sqltutorial.org', '515.123.4444', '1987-09-17', 3, 4400, 101, 1), (201, 'Michael', 'Hartstein', 'michael.hartstein@sqltutorial.org', '515.123.5555', '1996-02-17', 10, 13000, 100, 2), (202, 'Pat', 'Fay', 'pat.fay@sqltutorial.org', '603.123.6666', '1997-08-17', 11, 6000, 201, 2), (203, 'Susan', 'Mavris', 'susan.mavris@sqltutorial.org', '515.123.7777', '1994-06-07', 8, 6500, 101, 4), (204, 'Hermann', 'Baer', 'hermann.baer@sqltutorial.org', '515.123.8888', '1994-06-07', 12, 10000, 101, 7), (205, 'Shelley', 'Higgins', 'shelley.higgins@sqltutorial.org', '515.123.8080', '1994-06-07', 2, 12000, 101, 11), (206, 'William', 'Gietz', 'william.gietz@sqltutorial.org', '515.123.8181', '1994-06-07', 1, 8300, 205, 11)]\n"
          ]
        }
      ]
    },
    {
      "cell_type": "code",
      "source": [
        "print(get_job())"
      ],
      "metadata": {
        "colab": {
          "base_uri": "https://localhost:8080/"
        },
        "id": "kmbMsI6sapmQ",
        "outputId": "9d145b5b-0317-4f7c-eaac-97f4a8853d18"
      },
      "execution_count": 66,
      "outputs": [
        {
          "output_type": "stream",
          "name": "stdout",
          "text": [
            "[(2, 'Accounting Manager', 8200, 16000), (7, 'Finance Manager', 8200, 16000), (12, 'Public Relations Representative', 4500, 10500)]\n"
          ]
        }
      ]
    },
    {
      "cell_type": "markdown",
      "source": [
        " Method 2 - Use for loop"
      ],
      "metadata": {
        "id": "goXlAFz4ZPjY"
      }
    },
    {
      "cell_type": "code",
      "source": [
        "for row in c.execute('''select * from regions;'''):\n",
        "    print(row)"
      ],
      "metadata": {
        "colab": {
          "base_uri": "https://localhost:8080/"
        },
        "id": "xvfZxhsBZkB4",
        "outputId": "35ad113a-65fe-4ce7-9b30-8f2d9b46b927"
      },
      "execution_count": 67,
      "outputs": [
        {
          "output_type": "stream",
          "name": "stdout",
          "text": [
            "(1, 'Europe')\n",
            "(2, 'Americas')\n",
            "(3, 'Asia')\n",
            "(4, 'Middle East and Africa')\n"
          ]
        }
      ]
    },
    {
      "cell_type": "code",
      "source": [
        "for row in c.execute('''select * from countries ORDER BY country_id LIMIT 10;'''):\n",
        "    print(row)"
      ],
      "metadata": {
        "colab": {
          "base_uri": "https://localhost:8080/"
        },
        "id": "rXemqPlzZj9y",
        "outputId": "08b03c59-52d8-42b2-a9f7-a8a1dc4aca5a"
      },
      "execution_count": 68,
      "outputs": [
        {
          "output_type": "stream",
          "name": "stdout",
          "text": [
            "('AR', 'Argentina', 2)\n",
            "('AU', 'Australia', 3)\n",
            "('BE', 'Belgium', 1)\n",
            "('BR', 'Brazil', 2)\n",
            "('CA', 'Canada', 2)\n",
            "('CH', 'Switzerland', 1)\n",
            "('CN', 'China', 3)\n",
            "('DE', 'Germany', 1)\n",
            "('DK', 'Denmark', 1)\n",
            "('EG', 'Egypt', 4)\n"
          ]
        }
      ]
    },
    {
      "cell_type": "code",
      "source": [
        "for row in c.execute('''select * from locations where location_id in (1400, 2500);'''):\n",
        "    print(row)"
      ],
      "metadata": {
        "colab": {
          "base_uri": "https://localhost:8080/"
        },
        "id": "TuLBY2XiZtZC",
        "outputId": "ad5e0d12-cb1a-4413-ae8e-7932f7f86daf"
      },
      "execution_count": 69,
      "outputs": [
        {
          "output_type": "stream",
          "name": "stdout",
          "text": [
            "(1400, '2014 Jabberwocky Rd', '26192', 'Southlake', 'Texas', 'US')\n",
            "(2500, 'Magdalen Centre, The Oxford Science Park', 'OX9 9ZB', 'Oxford', 'Oxford', 'UK')\n"
          ]
        }
      ]
    },
    {
      "cell_type": "code",
      "source": [
        "for row in c.execute('''select * from departments where department_name = 'Marketing';'''):\n",
        "    print(row)"
      ],
      "metadata": {
        "colab": {
          "base_uri": "https://localhost:8080/"
        },
        "id": "6T8D6SrhZj5V",
        "outputId": "ed02740f-6e8e-4a29-97f1-36c0efbdae5f"
      },
      "execution_count": 70,
      "outputs": [
        {
          "output_type": "stream",
          "name": "stdout",
          "text": [
            "(2, 'Marketing', 1800)\n"
          ]
        }
      ]
    },
    {
      "cell_type": "code",
      "source": [
        "for row in c.execute('''select * from employees;'''):\n",
        "    print(row)"
      ],
      "metadata": {
        "colab": {
          "base_uri": "https://localhost:8080/"
        },
        "id": "48Ry8LYrZjz5",
        "outputId": "b4aa7f9b-ad02-4275-e961-0754a3212d6d"
      },
      "execution_count": 71,
      "outputs": [
        {
          "output_type": "stream",
          "name": "stdout",
          "text": [
            "(100, 'Steven', 'King', 'steven.king@sqltutorial.org', '515.123.4567', '1987-06-17', 4, 24000, None, 9)\n",
            "(101, 'Neena', 'Kochhar', 'neena.kochhar@sqltutorial.org', '515.123.4568', '1989-09-21', 5, 17000, 100, 9)\n",
            "(102, 'Lex', 'De Haan', 'lex.de haan@sqltutorial.org', '515.123.4569', '1993-01-13', 5, 17000, 100, 9)\n",
            "(103, 'Alexander', 'Hunold', 'alexander.hunold@sqltutorial.org', '590.423.4567', '1990-01-03', 9, 9000, 102, 6)\n",
            "(104, 'Bruce', 'Ernst', 'bruce.ernst@sqltutorial.org', '590.423.4568', '1991-05-21', 9, 6000, 103, 6)\n",
            "(105, 'David', 'Austin', 'david.austin@sqltutorial.org', '590.423.4569', '1997-06-25', 9, 4800, 103, 6)\n",
            "(106, 'Valli', 'Pataballa', 'valli.pataballa@sqltutorial.org', '590.423.4560', '1998-02-05', 9, 4800, 103, 6)\n",
            "(107, 'Diana', 'Lorentz', 'diana.lorentz@sqltutorial.org', '590.423.5567', '1999-02-07', 9, 4200, 103, 6)\n",
            "(108, 'Nancy', 'Greenberg', 'nancy.greenberg@sqltutorial.org', '515.124.4569', '1994-08-17', 7, 12000, 101, 10)\n",
            "(109, 'Daniel', 'Faviet', 'daniel.faviet@sqltutorial.org', '515.124.4169', '1994-08-16', 6, 9000, 108, 10)\n",
            "(110, 'John', 'Chen', 'john.chen@sqltutorial.org', '515.124.4269', '1997-09-28', 6, 8200, 108, 10)\n",
            "(111, 'Ismael', 'Sciarra', 'ismael.sciarra@sqltutorial.org', '515.124.4369', '1997-09-30', 6, 7700, 108, 10)\n",
            "(112, 'Jose Manuel', 'Urman', 'jose manuel.urman@sqltutorial.org', '515.124.4469', '1998-03-07', 6, 7800, 108, 10)\n",
            "(113, 'Luis', 'Popp', 'luis.popp@sqltutorial.org', '515.124.4567', '1999-12-07', 6, 6900, 108, 10)\n",
            "(114, 'Den', 'Raphaely', 'den.raphaely@sqltutorial.org', '515.127.4561', '1994-12-07', 14, 11000, 100, 3)\n",
            "(115, 'Alexander', 'Khoo', 'alexander.khoo@sqltutorial.org', '515.127.4562', '1995-05-18', 13, 3100, 114, 3)\n",
            "(116, 'Shelli', 'Baida', 'shelli.baida@sqltutorial.org', '515.127.4563', '1997-12-24', 13, 2900, 114, 3)\n",
            "(117, 'Sigal', 'Tobias', 'sigal.tobias@sqltutorial.org', '515.127.4564', '1997-07-24', 13, 2800, 114, 3)\n",
            "(118, 'Guy', 'Himuro', 'guy.himuro@sqltutorial.org', '515.127.4565', '1998-11-15', 13, 2600, 114, 3)\n",
            "(119, 'Karen', 'Colmenares', 'karen.colmenares@sqltutorial.org', '515.127.4566', '1999-08-10', 13, 2500, 114, 3)\n",
            "(120, 'Matthew', 'Weiss', 'matthew.weiss@sqltutorial.org', '650.123.1234', '1996-07-18', 19, 8000, 100, 5)\n",
            "(121, 'Adam', 'Fripp', 'adam.fripp@sqltutorial.org', '650.123.2234', '1997-04-10', 19, 8200, 100, 5)\n",
            "(122, 'Payam', 'Kaufling', 'payam.kaufling@sqltutorial.org', '650.123.3234', '1995-05-01', 19, 7900, 100, 5)\n",
            "(123, 'Shanta', 'Vollman', 'shanta.vollman@sqltutorial.org', '650.123.4234', '1997-10-10', 19, 6500, 100, 5)\n",
            "(126, 'Irene', 'Mikkilineni', 'irene.mikkilineni@sqltutorial.org', '650.124.1224', '1998-09-28', 18, 2700, 120, 5)\n",
            "(145, 'John', 'Russell', 'john.russell@sqltutorial.org', None, '1996-10-01', 15, 14000, 100, 8)\n",
            "(146, 'Karen', 'Partners', 'karen.partners@sqltutorial.org', None, '1997-01-05', 15, 13500, 100, 8)\n",
            "(176, 'Jonathon', 'Taylor', 'jonathon.taylor@sqltutorial.org', None, '1998-03-24', 16, 8600, 100, 8)\n",
            "(177, 'Jack', 'Livingston', 'jack.livingston@sqltutorial.org', None, '1998-04-23', 16, 8400, 100, 8)\n",
            "(178, 'Kimberely', 'Grant', 'kimberely.grant@sqltutorial.org', None, '1999-05-24', 16, 7000, 100, 8)\n",
            "(179, 'Charles', 'Johnson', 'charles.johnson@sqltutorial.org', None, '2000-01-04', 16, 6200, 100, 8)\n",
            "(192, 'Sarah', 'Bell', 'sarah.bell@sqltutorial.org', '650.501.1876', '1996-02-04', 17, 4000, 123, 5)\n",
            "(193, 'Britney', 'Everett', 'britney.everett@sqltutorial.org', '650.501.2876', '1997-03-03', 17, 3900, 123, 5)\n",
            "(200, 'Jennifer', 'Whalen', 'jennifer.whalen@sqltutorial.org', '515.123.4444', '1987-09-17', 3, 4400, 101, 1)\n",
            "(201, 'Michael', 'Hartstein', 'michael.hartstein@sqltutorial.org', '515.123.5555', '1996-02-17', 10, 13000, 100, 2)\n",
            "(202, 'Pat', 'Fay', 'pat.fay@sqltutorial.org', '603.123.6666', '1997-08-17', 11, 6000, 201, 2)\n",
            "(203, 'Susan', 'Mavris', 'susan.mavris@sqltutorial.org', '515.123.7777', '1994-06-07', 8, 6500, 101, 4)\n",
            "(204, 'Hermann', 'Baer', 'hermann.baer@sqltutorial.org', '515.123.8888', '1994-06-07', 12, 10000, 101, 7)\n",
            "(205, 'Shelley', 'Higgins', 'shelley.higgins@sqltutorial.org', '515.123.8080', '1994-06-07', 2, 12000, 101, 11)\n",
            "(206, 'William', 'Gietz', 'william.gietz@sqltutorial.org', '515.123.8181', '1994-06-07', 1, 8300, 205, 11)\n"
          ]
        }
      ]
    },
    {
      "cell_type": "code",
      "source": [
        "for row in c.execute('''select * from employees where employee_id <= 111;'''):\n",
        "    print(row)"
      ],
      "metadata": {
        "colab": {
          "base_uri": "https://localhost:8080/"
        },
        "id": "VgrsedjARCIy",
        "outputId": "25b8dcc5-028a-4b78-d563-cb6c7f160154"
      },
      "execution_count": 72,
      "outputs": [
        {
          "output_type": "stream",
          "name": "stdout",
          "text": [
            "(100, 'Steven', 'King', 'steven.king@sqltutorial.org', '515.123.4567', '1987-06-17', 4, 24000, None, 9)\n",
            "(101, 'Neena', 'Kochhar', 'neena.kochhar@sqltutorial.org', '515.123.4568', '1989-09-21', 5, 17000, 100, 9)\n",
            "(102, 'Lex', 'De Haan', 'lex.de haan@sqltutorial.org', '515.123.4569', '1993-01-13', 5, 17000, 100, 9)\n",
            "(103, 'Alexander', 'Hunold', 'alexander.hunold@sqltutorial.org', '590.423.4567', '1990-01-03', 9, 9000, 102, 6)\n",
            "(104, 'Bruce', 'Ernst', 'bruce.ernst@sqltutorial.org', '590.423.4568', '1991-05-21', 9, 6000, 103, 6)\n",
            "(105, 'David', 'Austin', 'david.austin@sqltutorial.org', '590.423.4569', '1997-06-25', 9, 4800, 103, 6)\n",
            "(106, 'Valli', 'Pataballa', 'valli.pataballa@sqltutorial.org', '590.423.4560', '1998-02-05', 9, 4800, 103, 6)\n",
            "(107, 'Diana', 'Lorentz', 'diana.lorentz@sqltutorial.org', '590.423.5567', '1999-02-07', 9, 4200, 103, 6)\n",
            "(108, 'Nancy', 'Greenberg', 'nancy.greenberg@sqltutorial.org', '515.124.4569', '1994-08-17', 7, 12000, 101, 10)\n",
            "(109, 'Daniel', 'Faviet', 'daniel.faviet@sqltutorial.org', '515.124.4169', '1994-08-16', 6, 9000, 108, 10)\n",
            "(110, 'John', 'Chen', 'john.chen@sqltutorial.org', '515.124.4269', '1997-09-28', 6, 8200, 108, 10)\n",
            "(111, 'Ismael', 'Sciarra', 'ismael.sciarra@sqltutorial.org', '515.124.4369', '1997-09-30', 6, 7700, 108, 10)\n"
          ]
        }
      ]
    },
    {
      "cell_type": "code",
      "source": [
        "for row in c.execute('''select * from dependents where relationship = 'Child';'''):\n",
        "    print(row)"
      ],
      "metadata": {
        "colab": {
          "base_uri": "https://localhost:8080/"
        },
        "id": "mzD5b7_zRBwn",
        "outputId": "40a64008-9399-426a-baee-d25331b3c4c2"
      },
      "execution_count": 73,
      "outputs": [
        {
          "output_type": "stream",
          "name": "stdout",
          "text": [
            "(1, 'Penelope', 'Gietz', 'Child', 206)\n",
            "(2, 'Nick', 'Higgins', 'Child', 205)\n",
            "(3, 'Ed', 'Whalen', 'Child', 200)\n",
            "(4, 'Jennifer', 'King', 'Child', 100)\n",
            "(5, 'Johnny', 'Kochhar', 'Child', 101)\n",
            "(6, 'Bette', 'De Haan', 'Child', 102)\n",
            "(7, 'Grace', 'Faviet', 'Child', 109)\n",
            "(8, 'Matthew', 'Chen', 'Child', 110)\n",
            "(9, 'Joe', 'Sciarra', 'Child', 111)\n",
            "(10, 'Christian', 'Urman', 'Child', 112)\n",
            "(11, 'Zero', 'Popp', 'Child', 113)\n",
            "(12, 'Karl', 'Greenberg', 'Child', 108)\n",
            "(13, 'Uma', 'Mavris', 'Child', 203)\n",
            "(14, 'Vivien', 'Hunold', 'Child', 103)\n",
            "(15, 'Cuba', 'Ernst', 'Child', 104)\n",
            "(16, 'Fred', 'Austin', 'Child', 105)\n",
            "(17, 'Helen', 'Pataballa', 'Child', 106)\n",
            "(18, 'Dan', 'Lorentz', 'Child', 107)\n",
            "(19, 'Bob', 'Hartstein', 'Child', 201)\n",
            "(20, 'Lucille', 'Fay', 'Child', 202)\n",
            "(21, 'Kirsten', 'Baer', 'Child', 204)\n",
            "(22, 'Elvis', 'Khoo', 'Child', 115)\n",
            "(23, 'Sandra', 'Baida', 'Child', 116)\n",
            "(24, 'Cameron', 'Tobias', 'Child', 117)\n",
            "(25, 'Kevin', 'Himuro', 'Child', 118)\n",
            "(26, 'Rip', 'Colmenares', 'Child', 119)\n",
            "(27, 'Julia', 'Raphaely', 'Child', 114)\n",
            "(28, 'Woody', 'Russell', 'Child', 145)\n",
            "(29, 'Alec', 'Partners', 'Child', 146)\n",
            "(30, 'Sandra', 'Taylor', 'Child', 176)\n"
          ]
        }
      ]
    },
    {
      "cell_type": "code",
      "source": [
        "for row in c.execute('''select * from countries where country_id in ('AR', 'NL','NG','KW','FR','EG');'''):\n",
        "    print(row)"
      ],
      "metadata": {
        "colab": {
          "base_uri": "https://localhost:8080/"
        },
        "id": "zoRO_w2uWb5X",
        "outputId": "2b799205-a20f-4e8f-fc3e-ecedac3bfbd7"
      },
      "execution_count": 74,
      "outputs": [
        {
          "output_type": "stream",
          "name": "stdout",
          "text": [
            "('AR', 'Argentina', 2)\n",
            "('EG', 'Egypt', 4)\n",
            "('FR', 'France', 1)\n",
            "('KW', 'Kuwait', 4)\n",
            "('NG', 'Nigeria', 4)\n",
            "('NL', 'Netherlands', 1)\n"
          ]
        }
      ]
    },
    {
      "cell_type": "code",
      "source": [
        "for row in c.execute('''select * from jobs where job_id in (1, 4, 10, 15, 19);'''):\n",
        "    print(row)"
      ],
      "metadata": {
        "colab": {
          "base_uri": "https://localhost:8080/"
        },
        "id": "fdBPNSo2ueOU",
        "outputId": "4f077c4b-dec6-4aa0-ed29-280faf54e366"
      },
      "execution_count": 75,
      "outputs": [
        {
          "output_type": "stream",
          "name": "stdout",
          "text": [
            "(1, 'Public Accountant', 4200, 9000)\n",
            "(4, 'President', 20000, 40000)\n",
            "(10, 'Marketing Manager', 9000, 15000)\n",
            "(15, 'Sales Manager', 10000, 20000)\n",
            "(19, 'Stock Manager', 5500, 8500)\n"
          ]
        }
      ]
    },
    {
      "cell_type": "code",
      "source": [
        "for row in c.execute('''select count (*) from regions;'''):\n",
        "    print(row)"
      ],
      "metadata": {
        "colab": {
          "base_uri": "https://localhost:8080/"
        },
        "id": "O3dPl2okAPQi",
        "outputId": "18364854-e650-4113-866d-d6127d994d78"
      },
      "execution_count": 76,
      "outputs": [
        {
          "output_type": "stream",
          "name": "stdout",
          "text": [
            "(4,)\n"
          ]
        }
      ]
    },
    {
      "cell_type": "code",
      "source": [
        "for row in c.execute('''select count (*) from dependents ;'''):\n",
        "    print(row)"
      ],
      "metadata": {
        "colab": {
          "base_uri": "https://localhost:8080/"
        },
        "id": "S9U_cY-76SAl",
        "outputId": "2fbd2f01-84d0-4a99-c2ff-ce5b5c0bc74b"
      },
      "execution_count": 77,
      "outputs": [
        {
          "output_type": "stream",
          "name": "stdout",
          "text": [
            "(30,)\n"
          ]
        }
      ]
    },
    {
      "cell_type": "code",
      "source": [
        "for row in c.execute('''select count (*) from departments ;'''):\n",
        "    print(row)"
      ],
      "metadata": {
        "colab": {
          "base_uri": "https://localhost:8080/"
        },
        "id": "JcaApsz86dKw",
        "outputId": "9c7cff95-79ba-4c71-d5dd-5d57e0ab405a"
      },
      "execution_count": 78,
      "outputs": [
        {
          "output_type": "stream",
          "name": "stdout",
          "text": [
            "(11,)\n"
          ]
        }
      ]
    },
    {
      "cell_type": "markdown",
      "source": [
        "## JOIN"
      ],
      "metadata": {
        "id": "TQxJrxiZkqAl"
      }
    },
    {
      "cell_type": "code",
      "source": [
        "def join_table():\n",
        "   c.execute('''SELECT d.*, e.employee_id, e.first_name, e.last_name\n",
        "FROM departments d\n",
        "LEFT JOIN employees e ON d.department_id = e.department_id;''')\n",
        "   data = []\n",
        "   for row in c.fetchall():\n",
        "      data.append(row)\n",
        "   return data"
      ],
      "metadata": {
        "id": "kXwC_Tj4lsmP"
      },
      "execution_count": 79,
      "outputs": []
    },
    {
      "cell_type": "code",
      "source": [
        "print(join_table())"
      ],
      "metadata": {
        "colab": {
          "base_uri": "https://localhost:8080/"
        },
        "id": "9UZmQZdjkvj6",
        "outputId": "fe2926be-4750-409f-cf07-fcacad7a2269"
      },
      "execution_count": 80,
      "outputs": [
        {
          "output_type": "stream",
          "name": "stdout",
          "text": [
            "[(1, 'Administration', 1700, 200, 'Jennifer', 'Whalen'), (2, 'Marketing', 1800, 201, 'Michael', 'Hartstein'), (2, 'Marketing', 1800, 202, 'Pat', 'Fay'), (3, 'Purchasing', 1700, 114, 'Den', 'Raphaely'), (3, 'Purchasing', 1700, 115, 'Alexander', 'Khoo'), (3, 'Purchasing', 1700, 116, 'Shelli', 'Baida'), (3, 'Purchasing', 1700, 117, 'Sigal', 'Tobias'), (3, 'Purchasing', 1700, 118, 'Guy', 'Himuro'), (3, 'Purchasing', 1700, 119, 'Karen', 'Colmenares'), (4, 'Human Resources', 2400, 203, 'Susan', 'Mavris'), (5, 'Shipping', 1500, 120, 'Matthew', 'Weiss'), (5, 'Shipping', 1500, 121, 'Adam', 'Fripp'), (5, 'Shipping', 1500, 122, 'Payam', 'Kaufling'), (5, 'Shipping', 1500, 123, 'Shanta', 'Vollman'), (5, 'Shipping', 1500, 126, 'Irene', 'Mikkilineni'), (5, 'Shipping', 1500, 192, 'Sarah', 'Bell'), (5, 'Shipping', 1500, 193, 'Britney', 'Everett'), (6, 'IT', 1400, 103, 'Alexander', 'Hunold'), (6, 'IT', 1400, 104, 'Bruce', 'Ernst'), (6, 'IT', 1400, 105, 'David', 'Austin'), (6, 'IT', 1400, 106, 'Valli', 'Pataballa'), (6, 'IT', 1400, 107, 'Diana', 'Lorentz'), (7, 'Public Relations', 2700, 204, 'Hermann', 'Baer'), (8, 'Sales', 2500, 145, 'John', 'Russell'), (8, 'Sales', 2500, 146, 'Karen', 'Partners'), (8, 'Sales', 2500, 176, 'Jonathon', 'Taylor'), (8, 'Sales', 2500, 177, 'Jack', 'Livingston'), (8, 'Sales', 2500, 178, 'Kimberely', 'Grant'), (8, 'Sales', 2500, 179, 'Charles', 'Johnson'), (9, 'Executive', 1700, 100, 'Steven', 'King'), (9, 'Executive', 1700, 101, 'Neena', 'Kochhar'), (9, 'Executive', 1700, 102, 'Lex', 'De Haan'), (10, 'Finance', 1700, 108, 'Nancy', 'Greenberg'), (10, 'Finance', 1700, 109, 'Daniel', 'Faviet'), (10, 'Finance', 1700, 110, 'John', 'Chen'), (10, 'Finance', 1700, 111, 'Ismael', 'Sciarra'), (10, 'Finance', 1700, 112, 'Jose Manuel', 'Urman'), (10, 'Finance', 1700, 113, 'Luis', 'Popp'), (11, 'Accounting', 1700, 205, 'Shelley', 'Higgins'), (11, 'Accounting', 1700, 206, 'William', 'Gietz')]\n"
          ]
        }
      ]
    },
    {
      "cell_type": "code",
      "source": [
        "def join_table2():\n",
        "   c.execute('''SELECT r.region_name, c.country_name,\n",
        "   l.street_address, l.postal_code, l.city, l.state_province\n",
        "FROM regions r\n",
        "LEFT JOIN countries c ON r.region_id = c.region_id\n",
        "LEFT JOIN locations l on c.country_id = l.country_id;''')\n",
        "   data = []\n",
        "   for row in c.fetchall():\n",
        "      data.append(row)\n",
        "   return data"
      ],
      "metadata": {
        "id": "dHbc8cmXmHF2"
      },
      "execution_count": 81,
      "outputs": []
    },
    {
      "cell_type": "code",
      "source": [
        "print(join_table2())"
      ],
      "metadata": {
        "colab": {
          "base_uri": "https://localhost:8080/"
        },
        "id": "tz8g4gbMmGFd",
        "outputId": "ecfbc44d-918e-40bf-ade4-33fe51a044e7"
      },
      "execution_count": 82,
      "outputs": [
        {
          "output_type": "stream",
          "name": "stdout",
          "text": [
            "[('Europe', 'Belgium', None, None, None, None), ('Europe', 'Switzerland', None, None, None, None), ('Europe', 'Germany', 'Schwanthalerstr. 7031', '80925', 'Munich', 'Bavaria'), ('Europe', 'Denmark', None, None, None, None), ('Europe', 'France', None, None, None, None), ('Europe', 'Italy', None, None, None, None), ('Europe', 'Netherlands', None, None, None, None), ('Europe', 'United Kingdom', '8204 Arthur St', None, 'London', None), ('Europe', 'United Kingdom', 'Magdalen Centre, The Oxford Science Park', 'OX9 9ZB', 'Oxford', 'Oxford'), ('Americas', 'Argentina', None, None, None, None), ('Americas', 'Brazil', None, None, None, None), ('Americas', 'Canada', '147 Spadina Ave', 'M5V 2L7', 'Toronto', 'Ontario'), ('Americas', 'Mexico', None, None, None, None), ('Americas', 'United States of America', '2004 Charade Rd', '98199', 'Seattle', 'Washington'), ('Americas', 'United States of America', '2011 Interiors Blvd', '99236', 'South San Francisco', 'California'), ('Americas', 'United States of America', '2014 Jabberwocky Rd', '26192', 'Southlake', 'Texas'), ('Asia', 'Australia', None, None, None, None), ('Asia', 'China', None, None, None, None), ('Asia', 'HongKong', None, None, None, None), ('Asia', 'India', None, None, None, None), ('Asia', 'Japan', None, None, None, None), ('Asia', 'Singapore', None, None, None, None), ('Middle East and Africa', 'Egypt', None, None, None, None), ('Middle East and Africa', 'Israel', None, None, None, None), ('Middle East and Africa', 'Kuwait', None, None, None, None), ('Middle East and Africa', 'Nigeria', None, None, None, None), ('Middle East and Africa', 'Zambia', None, None, None, None), ('Middle East and Africa', 'Zimbabwe', None, None, None, None)]\n"
          ]
        }
      ]
    },
    {
      "cell_type": "markdown",
      "source": [
        "### Joining and ouputting the result directly without using a function"
      ],
      "metadata": {
        "id": "NWRiTB-54rP5"
      }
    },
    {
      "cell_type": "code",
      "source": [
        "for row in c.execute('''SELECT d.*, e.*\n",
        "FROM departments d\n",
        "LEFT JOIN employees e ON d.department_id = e.department_id;'''):\n",
        "    print(row)"
      ],
      "metadata": {
        "colab": {
          "base_uri": "https://localhost:8080/"
        },
        "id": "hw41o6Jm5f6R",
        "outputId": "098f22ad-ad2e-4ceb-b9f1-91d805753975"
      },
      "execution_count": 83,
      "outputs": [
        {
          "output_type": "stream",
          "name": "stdout",
          "text": [
            "(1, 'Administration', 1700, 200, 'Jennifer', 'Whalen', 'jennifer.whalen@sqltutorial.org', '515.123.4444', '1987-09-17', 3, 4400, 101, 1)\n",
            "(2, 'Marketing', 1800, 201, 'Michael', 'Hartstein', 'michael.hartstein@sqltutorial.org', '515.123.5555', '1996-02-17', 10, 13000, 100, 2)\n",
            "(2, 'Marketing', 1800, 202, 'Pat', 'Fay', 'pat.fay@sqltutorial.org', '603.123.6666', '1997-08-17', 11, 6000, 201, 2)\n",
            "(3, 'Purchasing', 1700, 114, 'Den', 'Raphaely', 'den.raphaely@sqltutorial.org', '515.127.4561', '1994-12-07', 14, 11000, 100, 3)\n",
            "(3, 'Purchasing', 1700, 115, 'Alexander', 'Khoo', 'alexander.khoo@sqltutorial.org', '515.127.4562', '1995-05-18', 13, 3100, 114, 3)\n",
            "(3, 'Purchasing', 1700, 116, 'Shelli', 'Baida', 'shelli.baida@sqltutorial.org', '515.127.4563', '1997-12-24', 13, 2900, 114, 3)\n",
            "(3, 'Purchasing', 1700, 117, 'Sigal', 'Tobias', 'sigal.tobias@sqltutorial.org', '515.127.4564', '1997-07-24', 13, 2800, 114, 3)\n",
            "(3, 'Purchasing', 1700, 118, 'Guy', 'Himuro', 'guy.himuro@sqltutorial.org', '515.127.4565', '1998-11-15', 13, 2600, 114, 3)\n",
            "(3, 'Purchasing', 1700, 119, 'Karen', 'Colmenares', 'karen.colmenares@sqltutorial.org', '515.127.4566', '1999-08-10', 13, 2500, 114, 3)\n",
            "(4, 'Human Resources', 2400, 203, 'Susan', 'Mavris', 'susan.mavris@sqltutorial.org', '515.123.7777', '1994-06-07', 8, 6500, 101, 4)\n",
            "(5, 'Shipping', 1500, 120, 'Matthew', 'Weiss', 'matthew.weiss@sqltutorial.org', '650.123.1234', '1996-07-18', 19, 8000, 100, 5)\n",
            "(5, 'Shipping', 1500, 121, 'Adam', 'Fripp', 'adam.fripp@sqltutorial.org', '650.123.2234', '1997-04-10', 19, 8200, 100, 5)\n",
            "(5, 'Shipping', 1500, 122, 'Payam', 'Kaufling', 'payam.kaufling@sqltutorial.org', '650.123.3234', '1995-05-01', 19, 7900, 100, 5)\n",
            "(5, 'Shipping', 1500, 123, 'Shanta', 'Vollman', 'shanta.vollman@sqltutorial.org', '650.123.4234', '1997-10-10', 19, 6500, 100, 5)\n",
            "(5, 'Shipping', 1500, 126, 'Irene', 'Mikkilineni', 'irene.mikkilineni@sqltutorial.org', '650.124.1224', '1998-09-28', 18, 2700, 120, 5)\n",
            "(5, 'Shipping', 1500, 192, 'Sarah', 'Bell', 'sarah.bell@sqltutorial.org', '650.501.1876', '1996-02-04', 17, 4000, 123, 5)\n",
            "(5, 'Shipping', 1500, 193, 'Britney', 'Everett', 'britney.everett@sqltutorial.org', '650.501.2876', '1997-03-03', 17, 3900, 123, 5)\n",
            "(6, 'IT', 1400, 103, 'Alexander', 'Hunold', 'alexander.hunold@sqltutorial.org', '590.423.4567', '1990-01-03', 9, 9000, 102, 6)\n",
            "(6, 'IT', 1400, 104, 'Bruce', 'Ernst', 'bruce.ernst@sqltutorial.org', '590.423.4568', '1991-05-21', 9, 6000, 103, 6)\n",
            "(6, 'IT', 1400, 105, 'David', 'Austin', 'david.austin@sqltutorial.org', '590.423.4569', '1997-06-25', 9, 4800, 103, 6)\n",
            "(6, 'IT', 1400, 106, 'Valli', 'Pataballa', 'valli.pataballa@sqltutorial.org', '590.423.4560', '1998-02-05', 9, 4800, 103, 6)\n",
            "(6, 'IT', 1400, 107, 'Diana', 'Lorentz', 'diana.lorentz@sqltutorial.org', '590.423.5567', '1999-02-07', 9, 4200, 103, 6)\n",
            "(7, 'Public Relations', 2700, 204, 'Hermann', 'Baer', 'hermann.baer@sqltutorial.org', '515.123.8888', '1994-06-07', 12, 10000, 101, 7)\n",
            "(8, 'Sales', 2500, 145, 'John', 'Russell', 'john.russell@sqltutorial.org', None, '1996-10-01', 15, 14000, 100, 8)\n",
            "(8, 'Sales', 2500, 146, 'Karen', 'Partners', 'karen.partners@sqltutorial.org', None, '1997-01-05', 15, 13500, 100, 8)\n",
            "(8, 'Sales', 2500, 176, 'Jonathon', 'Taylor', 'jonathon.taylor@sqltutorial.org', None, '1998-03-24', 16, 8600, 100, 8)\n",
            "(8, 'Sales', 2500, 177, 'Jack', 'Livingston', 'jack.livingston@sqltutorial.org', None, '1998-04-23', 16, 8400, 100, 8)\n",
            "(8, 'Sales', 2500, 178, 'Kimberely', 'Grant', 'kimberely.grant@sqltutorial.org', None, '1999-05-24', 16, 7000, 100, 8)\n",
            "(8, 'Sales', 2500, 179, 'Charles', 'Johnson', 'charles.johnson@sqltutorial.org', None, '2000-01-04', 16, 6200, 100, 8)\n",
            "(9, 'Executive', 1700, 100, 'Steven', 'King', 'steven.king@sqltutorial.org', '515.123.4567', '1987-06-17', 4, 24000, None, 9)\n",
            "(9, 'Executive', 1700, 101, 'Neena', 'Kochhar', 'neena.kochhar@sqltutorial.org', '515.123.4568', '1989-09-21', 5, 17000, 100, 9)\n",
            "(9, 'Executive', 1700, 102, 'Lex', 'De Haan', 'lex.de haan@sqltutorial.org', '515.123.4569', '1993-01-13', 5, 17000, 100, 9)\n",
            "(10, 'Finance', 1700, 108, 'Nancy', 'Greenberg', 'nancy.greenberg@sqltutorial.org', '515.124.4569', '1994-08-17', 7, 12000, 101, 10)\n",
            "(10, 'Finance', 1700, 109, 'Daniel', 'Faviet', 'daniel.faviet@sqltutorial.org', '515.124.4169', '1994-08-16', 6, 9000, 108, 10)\n",
            "(10, 'Finance', 1700, 110, 'John', 'Chen', 'john.chen@sqltutorial.org', '515.124.4269', '1997-09-28', 6, 8200, 108, 10)\n",
            "(10, 'Finance', 1700, 111, 'Ismael', 'Sciarra', 'ismael.sciarra@sqltutorial.org', '515.124.4369', '1997-09-30', 6, 7700, 108, 10)\n",
            "(10, 'Finance', 1700, 112, 'Jose Manuel', 'Urman', 'jose manuel.urman@sqltutorial.org', '515.124.4469', '1998-03-07', 6, 7800, 108, 10)\n",
            "(10, 'Finance', 1700, 113, 'Luis', 'Popp', 'luis.popp@sqltutorial.org', '515.124.4567', '1999-12-07', 6, 6900, 108, 10)\n",
            "(11, 'Accounting', 1700, 205, 'Shelley', 'Higgins', 'shelley.higgins@sqltutorial.org', '515.123.8080', '1994-06-07', 2, 12000, 101, 11)\n",
            "(11, 'Accounting', 1700, 206, 'William', 'Gietz', 'william.gietz@sqltutorial.org', '515.123.8181', '1994-06-07', 1, 8300, 205, 11)\n"
          ]
        }
      ]
    },
    {
      "cell_type": "code",
      "source": [
        "for row in c.execute('''SELECT r.region_name, c.country_name,\n",
        "   l.street_address, l.postal_code, l.city, l.state_province\n",
        "FROM regions r\n",
        "LEFT JOIN countries c ON r.region_id = c.region_id\n",
        "INNER JOIN locations l on c.country_id = l.country_id;'''):\n",
        "    print(row)"
      ],
      "metadata": {
        "colab": {
          "base_uri": "https://localhost:8080/"
        },
        "id": "xvdWvT2X41LY",
        "outputId": "59ffd860-c92e-4b49-c5d3-41d92a442a35"
      },
      "execution_count": 84,
      "outputs": [
        {
          "output_type": "stream",
          "name": "stdout",
          "text": [
            "('Americas', 'United States of America', '2014 Jabberwocky Rd', '26192', 'Southlake', 'Texas')\n",
            "('Americas', 'United States of America', '2011 Interiors Blvd', '99236', 'South San Francisco', 'California')\n",
            "('Americas', 'United States of America', '2004 Charade Rd', '98199', 'Seattle', 'Washington')\n",
            "('Americas', 'Canada', '147 Spadina Ave', 'M5V 2L7', 'Toronto', 'Ontario')\n",
            "('Europe', 'United Kingdom', '8204 Arthur St', None, 'London', None)\n",
            "('Europe', 'United Kingdom', 'Magdalen Centre, The Oxford Science Park', 'OX9 9ZB', 'Oxford', 'Oxford')\n",
            "('Europe', 'Germany', 'Schwanthalerstr. 7031', '80925', 'Munich', 'Bavaria')\n"
          ]
        }
      ]
    },
    {
      "cell_type": "code",
      "source": [
        "for row in c.execute('''SELECT e.employee_id, e.first_name || ' ' ||e.last_name as full_name, COUNT(d.relationship)\n",
        "FROM employees e\n",
        "LEFT JOIN dependents d ON e.employee_id = d.employee_id\n",
        "GROUP BY e.employee_id\n",
        "ORDER BY COUNT(d.relationship);'''):\n",
        "    print(row)\n"
      ],
      "metadata": {
        "colab": {
          "base_uri": "https://localhost:8080/"
        },
        "id": "SGgJfidZB2oe",
        "outputId": "f7a8d662-2a18-4b95-ad8a-7558516fe3f4"
      },
      "execution_count": 85,
      "outputs": [
        {
          "output_type": "stream",
          "name": "stdout",
          "text": [
            "(120, 'Matthew Weiss', 0)\n",
            "(121, 'Adam Fripp', 0)\n",
            "(122, 'Payam Kaufling', 0)\n",
            "(123, 'Shanta Vollman', 0)\n",
            "(126, 'Irene Mikkilineni', 0)\n",
            "(177, 'Jack Livingston', 0)\n",
            "(178, 'Kimberely Grant', 0)\n",
            "(179, 'Charles Johnson', 0)\n",
            "(192, 'Sarah Bell', 0)\n",
            "(193, 'Britney Everett', 0)\n",
            "(100, 'Steven King', 1)\n",
            "(101, 'Neena Kochhar', 1)\n",
            "(102, 'Lex De Haan', 1)\n",
            "(103, 'Alexander Hunold', 1)\n",
            "(104, 'Bruce Ernst', 1)\n",
            "(105, 'David Austin', 1)\n",
            "(106, 'Valli Pataballa', 1)\n",
            "(107, 'Diana Lorentz', 1)\n",
            "(108, 'Nancy Greenberg', 1)\n",
            "(109, 'Daniel Faviet', 1)\n",
            "(110, 'John Chen', 1)\n",
            "(111, 'Ismael Sciarra', 1)\n",
            "(112, 'Jose Manuel Urman', 1)\n",
            "(113, 'Luis Popp', 1)\n",
            "(114, 'Den Raphaely', 1)\n",
            "(115, 'Alexander Khoo', 1)\n",
            "(116, 'Shelli Baida', 1)\n",
            "(117, 'Sigal Tobias', 1)\n",
            "(118, 'Guy Himuro', 1)\n",
            "(119, 'Karen Colmenares', 1)\n",
            "(145, 'John Russell', 1)\n",
            "(146, 'Karen Partners', 1)\n",
            "(176, 'Jonathon Taylor', 1)\n",
            "(200, 'Jennifer Whalen', 1)\n",
            "(201, 'Michael Hartstein', 1)\n",
            "(202, 'Pat Fay', 1)\n",
            "(203, 'Susan Mavris', 1)\n",
            "(204, 'Hermann Baer', 1)\n",
            "(205, 'Shelley Higgins', 1)\n",
            "(206, 'William Gietz', 1)\n"
          ]
        }
      ]
    },
    {
      "cell_type": "code",
      "source": [
        "for row in c.execute('''SELECT e.employee_id, e.first_name || ' ' ||e.last_name as full_name, COUNT(d.relationship)\n",
        "FROM employees e\n",
        "LEFT JOIN dependents d ON e.employee_id = d.employee_id\n",
        "GROUP BY e.employee_id\n",
        "HAVING COUNT(d.relationship) > 0\n",
        "ORDER BY COUNT(d.relationship);'''):\n",
        "    print(row)\n"
      ],
      "metadata": {
        "colab": {
          "base_uri": "https://localhost:8080/"
        },
        "id": "xC_Ma1_nEHYq",
        "outputId": "a95d8653-251f-43e3-a232-49f724b5459e"
      },
      "execution_count": 86,
      "outputs": [
        {
          "output_type": "stream",
          "name": "stdout",
          "text": [
            "(100, 'Steven King', 1)\n",
            "(101, 'Neena Kochhar', 1)\n",
            "(102, 'Lex De Haan', 1)\n",
            "(103, 'Alexander Hunold', 1)\n",
            "(104, 'Bruce Ernst', 1)\n",
            "(105, 'David Austin', 1)\n",
            "(106, 'Valli Pataballa', 1)\n",
            "(107, 'Diana Lorentz', 1)\n",
            "(108, 'Nancy Greenberg', 1)\n",
            "(109, 'Daniel Faviet', 1)\n",
            "(110, 'John Chen', 1)\n",
            "(111, 'Ismael Sciarra', 1)\n",
            "(112, 'Jose Manuel Urman', 1)\n",
            "(113, 'Luis Popp', 1)\n",
            "(114, 'Den Raphaely', 1)\n",
            "(115, 'Alexander Khoo', 1)\n",
            "(116, 'Shelli Baida', 1)\n",
            "(117, 'Sigal Tobias', 1)\n",
            "(118, 'Guy Himuro', 1)\n",
            "(119, 'Karen Colmenares', 1)\n",
            "(145, 'John Russell', 1)\n",
            "(146, 'Karen Partners', 1)\n",
            "(176, 'Jonathon Taylor', 1)\n",
            "(200, 'Jennifer Whalen', 1)\n",
            "(201, 'Michael Hartstein', 1)\n",
            "(202, 'Pat Fay', 1)\n",
            "(203, 'Susan Mavris', 1)\n",
            "(204, 'Hermann Baer', 1)\n",
            "(205, 'Shelley Higgins', 1)\n",
            "(206, 'William Gietz', 1)\n"
          ]
        }
      ]
    },
    {
      "cell_type": "code",
      "source": [
        "for row in c.execute('''SELECT e.employee_id, e.first_name || ' ' ||e.last_name as full_name, COUNT(d.relationship)\n",
        "FROM employees e\n",
        "LEFT JOIN dependents d ON e.employee_id = d.employee_id\n",
        "GROUP BY e.employee_id\n",
        "HAVING COUNT(d.relationship) < 1\n",
        "ORDER BY COUNT(d.relationship);'''):\n",
        "    print(row)\n"
      ],
      "metadata": {
        "colab": {
          "base_uri": "https://localhost:8080/"
        },
        "id": "HVOGg1ydEZ9Z",
        "outputId": "90716ae8-e0c6-435b-87bd-0209324faeca"
      },
      "execution_count": 88,
      "outputs": [
        {
          "output_type": "stream",
          "name": "stdout",
          "text": [
            "(120, 'Matthew Weiss', 0)\n",
            "(121, 'Adam Fripp', 0)\n",
            "(122, 'Payam Kaufling', 0)\n",
            "(123, 'Shanta Vollman', 0)\n",
            "(126, 'Irene Mikkilineni', 0)\n",
            "(177, 'Jack Livingston', 0)\n",
            "(178, 'Kimberely Grant', 0)\n",
            "(179, 'Charles Johnson', 0)\n",
            "(192, 'Sarah Bell', 0)\n",
            "(193, 'Britney Everett', 0)\n"
          ]
        }
      ]
    },
    {
      "cell_type": "markdown",
      "source": [
        "## Deleting rows"
      ],
      "metadata": {
        "id": "pMdqDfONWe7-"
      }
    },
    {
      "cell_type": "code",
      "source": [
        "# Create a function for deleting rows\n",
        "def delete_dependent(dependent_id):\n",
        "    c.execute(f\"DELETE FROM dependents WHERE dependent_id = {dependent_id};\")\n",
        "    conn.commit()"
      ],
      "metadata": {
        "id": "_wf6x1SAWbvA"
      },
      "execution_count": 89,
      "outputs": []
    },
    {
      "cell_type": "code",
      "source": [
        "delete_dependent(1)"
      ],
      "metadata": {
        "id": "wXD8PZ-ZeqqJ"
      },
      "execution_count": 90,
      "outputs": []
    },
    {
      "cell_type": "code",
      "source": [
        "# Create a function for deleting rows\n",
        "def delete_department(department_id):\n",
        "    c.execute(\"DELETE FROM dependents WHERE dependent_id = ?\", (department_id,))\n",
        "\n",
        "\n",
        "    conn.commit()"
      ],
      "metadata": {
        "id": "AKS_CvjZeAwe"
      },
      "execution_count": 91,
      "outputs": []
    },
    {
      "cell_type": "code",
      "source": [
        "delete_department(5)"
      ],
      "metadata": {
        "id": "ikhZqYRbet2P"
      },
      "execution_count": 92,
      "outputs": []
    },
    {
      "cell_type": "markdown",
      "source": [
        "Check the tables again to see the number of rows left in the tables after deletion"
      ],
      "metadata": {
        "id": "ZV_KCxHF7B2x"
      }
    },
    {
      "cell_type": "code",
      "source": [
        "for row in c.execute('''select count (*) from dependents ;'''):\n",
        "    print(row)"
      ],
      "metadata": {
        "colab": {
          "base_uri": "https://localhost:8080/"
        },
        "id": "T9fbqb5d6zL-",
        "outputId": "971abdf4-07c5-4d5e-9ae8-f998fae757c6"
      },
      "execution_count": 93,
      "outputs": [
        {
          "output_type": "stream",
          "name": "stdout",
          "text": [
            "(28,)\n"
          ]
        }
      ]
    },
    {
      "cell_type": "code",
      "source": [
        "for row in c.execute('''select count (*) from departments ;'''):\n",
        "    print(row)"
      ],
      "metadata": {
        "colab": {
          "base_uri": "https://localhost:8080/"
        },
        "id": "MzfRorDA615-",
        "outputId": "7e0be6d3-fe1e-4194-8259-3b3491fc6d40"
      },
      "execution_count": 94,
      "outputs": [
        {
          "output_type": "stream",
          "name": "stdout",
          "text": [
            "(11,)\n"
          ]
        }
      ]
    },
    {
      "cell_type": "markdown",
      "source": [
        "---\n",
        "## Connecting to a sqlite database just another way"
      ],
      "metadata": {
        "id": "uFij2zuVs1Eu"
      }
    },
    {
      "cell_type": "code",
      "source": [
        "with sqlite3.connect ('mars_db') as db:\n",
        "  cursor = db.cursor()"
      ],
      "metadata": {
        "id": "KIK-z2uXwk-1"
      },
      "execution_count": 139,
      "outputs": []
    },
    {
      "cell_type": "code",
      "source": [
        "cursor.execute('''CREATE TABLE base (\n",
        "    base_id INT IDENTITY(1,1) PRIMARY KEY,\n",
        "    base_name VARCHAR(30),\n",
        "    founded DATE\n",
        ");''')"
      ],
      "metadata": {
        "id": "6Z14qq1ywlza",
        "colab": {
          "base_uri": "https://localhost:8080/"
        },
        "outputId": "56873b41-946a-46b8-97df-e39954e66528"
      },
      "execution_count": 119,
      "outputs": [
        {
          "output_type": "execute_result",
          "data": {
            "text/plain": [
              "<sqlite3.Cursor at 0x7de7b518c0c0>"
            ]
          },
          "metadata": {},
          "execution_count": 119
        }
      ]
    },
    {
      "cell_type": "code",
      "source": [
        "cursor.execute('''CREATE TABLE martian (\n",
        "    martian_id INT IDENTITY(1,1) PRIMARY KEY,\n",
        "    first_name VARCHAR(25),\n",
        "    last_name VARCHAR(25),\n",
        "    base_id INT,\n",
        "    super_id INT,\n",
        "    FOREIGN KEY (base_id)\n",
        "        REFERENCES base (base_id)\n",
        ");''')"
      ],
      "metadata": {
        "id": "Gdl8qG0iIK8d",
        "colab": {
          "base_uri": "https://localhost:8080/"
        },
        "outputId": "ba11618d-b015-46d6-a458-5861878c437a"
      },
      "execution_count": 125,
      "outputs": [
        {
          "output_type": "execute_result",
          "data": {
            "text/plain": [
              "<sqlite3.Cursor at 0x7de7b518c0c0>"
            ]
          },
          "metadata": {},
          "execution_count": 125
        }
      ]
    },
    {
      "cell_type": "code",
      "source": [
        "cursor.execute('''CREATE TABLE visitor (\n",
        "    visitor_id INT AUTO_INCREMENT PRIMARY KEY,\n",
        "    host_id INT,\n",
        "    first_name VARCHAR(25),\n",
        "    last_name VARCHAR(25),\n",
        "    FOREIGN KEY (host_id)\n",
        "        REFERENCES martian (martian_id)\n",
        ");\n",
        "''')"
      ],
      "metadata": {
        "id": "Uk2FO3K4IK4D",
        "colab": {
          "base_uri": "https://localhost:8080/"
        },
        "outputId": "e7f3ce0c-f63f-4e9e-ece8-2c5b08524474"
      },
      "execution_count": 98,
      "outputs": [
        {
          "output_type": "execute_result",
          "data": {
            "text/plain": [
              "<sqlite3.Cursor at 0x7de7b50e3740>"
            ]
          },
          "metadata": {},
          "execution_count": 98
        }
      ]
    },
    {
      "cell_type": "code",
      "source": [
        "cursor.execute('''CREATE TABLE supply (\n",
        "    supply_id INT INCREMENT(1,1) PRIMARY KEY,\n",
        "    name VARCHAR(30),\n",
        "    description TEXT,\n",
        "    quantity INT\n",
        ");\n",
        "\n",
        "''')"
      ],
      "metadata": {
        "id": "BOlBf7VpIKzX",
        "colab": {
          "base_uri": "https://localhost:8080/"
        },
        "outputId": "2fbaba75-bf4d-47e3-c8fb-956022953b26"
      },
      "execution_count": 108,
      "outputs": [
        {
          "output_type": "execute_result",
          "data": {
            "text/plain": [
              "<sqlite3.Cursor at 0x7de7b518c0c0>"
            ]
          },
          "metadata": {},
          "execution_count": 108
        }
      ]
    },
    {
      "cell_type": "code",
      "source": [
        "cursor.execute('''CREATE TABLE inventory (\n",
        "    base_id INT,\n",
        "    supply_id INT,\n",
        "    quantity INT,\n",
        "    FOREIGN KEY (base_id)\n",
        "        REFERENCES base (base_id),\n",
        "    FOREIGN KEY (supply_id)\n",
        "        REFERENCES supply (supply_id)\n",
        ");\n",
        "\n",
        "\n",
        "''')"
      ],
      "metadata": {
        "id": "aR6K0KOjIKt9",
        "colab": {
          "base_uri": "https://localhost:8080/"
        },
        "outputId": "c5f74d9d-7088-42b5-bf96-d6cdc9556a10"
      },
      "execution_count": 111,
      "outputs": [
        {
          "output_type": "execute_result",
          "data": {
            "text/plain": [
              "<sqlite3.Cursor at 0x7de7b518c0c0>"
            ]
          },
          "metadata": {},
          "execution_count": 111
        }
      ]
    },
    {
      "cell_type": "code",
      "source": [
        "cursor.execute('''CREATE TABLE martian_confidential (\n",
        "    martian_id INT INCREMENT(1,1) PRIMARY KEY,\n",
        "    first_name VARCHAR(25),\n",
        "    last_name VARCHAR(25),\n",
        "    base_id INT,\n",
        "    super_id INT,\n",
        "    salary INT,\n",
        "    dna_id VARCHAR(30),\n",
        "    FOREIGN KEY (base_id)\n",
        "        REFERENCES base (base_id)\n",
        ");\n",
        "''')"
      ],
      "metadata": {
        "id": "nmJSNYd1IKnn",
        "colab": {
          "base_uri": "https://localhost:8080/",
          "height": 211
        },
        "outputId": "1d864b14-f5fc-4848-da1b-ffda6f2aed5f"
      },
      "execution_count": 140,
      "outputs": [
        {
          "output_type": "error",
          "ename": "OperationalError",
          "evalue": "table martian_confidential already exists",
          "traceback": [
            "\u001b[0;31m---------------------------------------------------------------------------\u001b[0m",
            "\u001b[0;31mOperationalError\u001b[0m                          Traceback (most recent call last)",
            "\u001b[0;32m<ipython-input-140-ff995866f0bc>\u001b[0m in \u001b[0;36m<cell line: 0>\u001b[0;34m()\u001b[0m\n\u001b[0;32m----> 1\u001b[0;31m cursor.execute('''CREATE TABLE martian_confidential (\n\u001b[0m\u001b[1;32m      2\u001b[0m     \u001b[0mmartian_id\u001b[0m \u001b[0mINT\u001b[0m \u001b[0mINCREMENT\u001b[0m\u001b[0;34m(\u001b[0m\u001b[0;36m1\u001b[0m\u001b[0;34m,\u001b[0m\u001b[0;36m1\u001b[0m\u001b[0;34m)\u001b[0m \u001b[0mPRIMARY\u001b[0m \u001b[0mKEY\u001b[0m\u001b[0;34m,\u001b[0m\u001b[0;34m\u001b[0m\u001b[0;34m\u001b[0m\u001b[0m\n\u001b[1;32m      3\u001b[0m     \u001b[0mfirst_name\u001b[0m \u001b[0mVARCHAR\u001b[0m\u001b[0;34m(\u001b[0m\u001b[0;36m25\u001b[0m\u001b[0;34m)\u001b[0m\u001b[0;34m,\u001b[0m\u001b[0;34m\u001b[0m\u001b[0;34m\u001b[0m\u001b[0m\n\u001b[1;32m      4\u001b[0m     \u001b[0mlast_name\u001b[0m \u001b[0mVARCHAR\u001b[0m\u001b[0;34m(\u001b[0m\u001b[0;36m25\u001b[0m\u001b[0;34m)\u001b[0m\u001b[0;34m,\u001b[0m\u001b[0;34m\u001b[0m\u001b[0;34m\u001b[0m\u001b[0m\n\u001b[1;32m      5\u001b[0m     \u001b[0mbase_id\u001b[0m \u001b[0mINT\u001b[0m\u001b[0;34m,\u001b[0m\u001b[0;34m\u001b[0m\u001b[0;34m\u001b[0m\u001b[0m\n",
            "\u001b[0;31mOperationalError\u001b[0m: table martian_confidential already exists"
          ]
        }
      ]
    },
    {
      "cell_type": "markdown",
      "source": [
        "---\n",
        "## Inserting Records"
      ],
      "metadata": {
        "id": "uj9tI7Els02L"
      }
    },
    {
      "cell_type": "code",
      "source": [
        "# List of regions as tuples (region_id, region_name)\n",
        "base = [\n",
        "    (1, 'Tharsisland', '2037-06-03'),\n",
        "    (2, 'Valles Marineris 2.0', '2040-12-01'),\n",
        "    (3, 'Gale Cratertown', '2041-08-15'),\n",
        "    (4, 'New New New York', '2042-02-10'),\n",
        "    (5, 'Olympus Mons Spa & Casino', None)\n",
        "]\n",
        "\n",
        "# Loop through the regions list and execute the insert query\n",
        "for b in base:\n",
        "  cursor.execute('''INSERT INTO base (base_id, base_name, founded) VALUES (?, ?, ?);''', b)\n",
        "# Commit the changes and close the connection\n",
        "db.commit()\n"
      ],
      "metadata": {
        "id": "txS2AbUIKYka"
      },
      "execution_count": 121,
      "outputs": []
    },
    {
      "cell_type": "code",
      "source": [
        "\n",
        "# List of tuples representing the rows to be inserted\n",
        "martian = [\n",
        "    (100, 'Ray', 'Bradbury', 1, None),\n",
        "    (101, 'John', 'Black', 4, 10),\n",
        "    (102, 'Samuel', 'Hinkston', 4, 2),\n",
        "    (103, 'Jeff', 'Spender', 1, 9),\n",
        "    (104, 'Sam', 'Parkhill', 2, 12),\n",
        "    (105, 'Elma', 'Parkhill', 3, 8),\n",
        "    (106, 'Melissa', 'Lewis', 1, 1),\n",
        "    (107, 'Mark', 'Watney', 3, None),\n",
        "    (108, 'Beth', 'Johanssen', 1, 1),\n",
        "    (109, 'Chris', 'Beck', 4, None),\n",
        "    (110, 'Nathaniel', 'York', 4, 2),\n",
        "    (111, 'Elon', 'Musk', 2, None),\n",
        "    (112, 'John', 'Carter', None, 8)\n",
        "]\n",
        "\n",
        "# Loop over the values and insert each row\n",
        "for m in martian:\n",
        "    cursor.execute(\n",
        "        '''INSERT INTO martian (martian_id, first_name, last_name, base_id, super_id) VALUES (?, ?, ?, ?, ?)''',\n",
        "        m\n",
        "    )\n",
        "\n",
        "# Commit the changes and close the connection\n",
        "db.commit()\n"
      ],
      "metadata": {
        "id": "Eh1aZfQfKYVF"
      },
      "execution_count": 126,
      "outputs": []
    },
    {
      "cell_type": "code",
      "source": [
        "\n",
        "# List of tuples representing the rows to be inserted\n",
        "visitor = [\n",
        "   (1, 7, 'George', 'Ambrose'),\n",
        "    (2, 1, 'Kris', 'Cardenas'),\n",
        "    (3, 9, 'Priscilla', 'Lane'),\n",
        "    (4, 11, 'Jane', 'Thornton'),\n",
        "    (5, None, 'Doug', 'Stavenger'),\n",
        "    (6, None, 'Jamie', 'Waterman'),\n",
        "    (7, 8, 'Martin', 'Humphries')\n",
        "]\n",
        "\n",
        "# Loop over the values and insert each row\n",
        "for v in visitor:\n",
        "    cursor.execute(\n",
        "        ''' INSERT INTO visitor (visitor_id, host_id, first_name, last_name) VALUES (?, ?, ?, ?)''',\n",
        "        v )\n",
        "\n",
        "# Commit the changes and close the connection\n",
        "db.commit()\n"
      ],
      "metadata": {
        "id": "g4I6N8_XOBQq"
      },
      "execution_count": 104,
      "outputs": []
    },
    {
      "cell_type": "code",
      "source": [
        "# List of tuples representing the rows to be inserted\n",
        "supply = [\n",
        "   (1, 'Solar Panel', 'Standard 1x1 meter cell', 912),\n",
        "    (2, 'Water Filter', 'This takes things out of your water so it''s drinkable.', 6),\n",
        "    (3, 'Duct Tape', 'A 10 meter roll of duct tape for ALL your repairs.', 951),\n",
        "    (4, 'Ketchup', 'It''s ketchup...', 206),\n",
        "    (5, 'Battery Cell', 'Standard 1000 kAh battery cell for power grid (heavy item).', 17),\n",
        "    (6, 'USB 6.0 Cable', 'Carbon fiber coated / 15 TBps spool', 42),\n",
        "    (7, 'Fuzzy Duster', 'It gets dusty around here. Be prepared!', 19),\n",
        "    (8, 'Mars Bars', 'The ORIGINAL nutirent bar made with the finest bioengineered ingredients.', 3801),\n",
        "    (9, 'Air Filter', 'Removes 99% of all Martian dust from your ventilation unit.', 23),\n",
        "    (10, 'Famous Ray''s Frozen Pizza', 'This Martian favorite is covered in all your favorite toppings. 1 flavor only.', 823)\n",
        "]\n",
        "\n",
        "# Loop over the values and insert each row\n",
        "for s in supply:\n",
        "    cursor.execute('''INSERT INTO supply\n",
        "    (supply_id, name, description, quantity) VALUES (?, ?, ?, ?)''', s\n",
        "    )\n",
        "\n",
        "# Commit the changes and close the connection\n",
        "db.commit()\n"
      ],
      "metadata": {
        "id": "TAIVz9DzOnGo"
      },
      "execution_count": 141,
      "outputs": []
    },
    {
      "cell_type": "code",
      "source": [
        "\n",
        "# List of tuples representing the rows to be inserted\n",
        "inventory = [\n",
        "   (1, 1, 8),\n",
        "    (1, 3, 5),\n",
        "    (1, 5, 1),\n",
        "    (1, 6, 2),\n",
        "    (1, 8, 12),\n",
        "    (1, 9, 1),\n",
        "    (2, 4, 5),\n",
        "    (2, 8, 62),\n",
        "    (2, 10, 37),\n",
        "    (3, 2, 11),\n",
        "    (3, 7, 2),\n",
        "    (4, 10, 91)\n",
        "]\n",
        "\n",
        "# Loop over the values and insert each row\n",
        "for i in inventory:\n",
        "    cursor.execute('''INSERT INTO inventory\n",
        "    (base_id, supply_id, quantity)\n",
        " VALUES (?, ?, ?)''',  i\n",
        "    )\n",
        "\n",
        "# Commit the changes and close the connection\n",
        "db.commit()"
      ],
      "metadata": {
        "id": "JXtJ8uwEOmv7"
      },
      "execution_count": 135,
      "outputs": []
    },
    {
      "cell_type": "code",
      "source": [
        "\n",
        "# List of tuples representing the rows to be inserted\n",
        "confidential = [\n",
        "   (1, 'Ray', 'Bradbury', 1, None, 155900, 'gctaggaatgtagaatctcctgttg'),\n",
        "    (2, 'John', 'Black', 4, 10, 120100, 'cagttaatggttgaagctggggatt'),\n",
        "    (3, 'Samuel', 'Hinkston', 4, 2, 110000, 'cgaagcgctagatgctgtgttgtag'),\n",
        "    (4, 'Jeff', 'Spender', 1, 9, 10000, 'gactaatgtcttcgtggattgcaga'),\n",
        "    (5, 'Sam', 'Parkhill', 2, 12, 125000, 'gttactttgcgaaagccgtggctac'),\n",
        "    (6, 'Elma', 'Parkhill', 3, 8, 137000, 'gcaggaatggaagcaactgccatat'),\n",
        "    (7, 'Melissa', 'Lewis', 1, 1, 145250, 'cttcgatcgtcaatggagttccggac'),\n",
        "    (8, 'Mark', 'Watney', 3,None, 121100, 'gacacgaggcgaactatgtcgcggc'),\n",
        "    (9, 'Beth', 'Johanssen', 1, 1, 130000, 'cttagactaggtgtgaaacccgtta'),\n",
        "    (10, 'Chris', 'Beck', 4, None, 125000, 'gggggggttacgacgaggaatccat'),\n",
        "    (11, 'Nathaniel', 'York', 4, 2, 105000, 'ggtctccctgggcgggatattggatg'),\n",
        "    (12, 'Elon', 'Musk', 2, None, 155800, 'atctgcttggatcaatagcgctgcg'),\n",
        "    (13, 'John', 'Carter', None, 8, 129500, 'ccaatcgtgcgagtcgcgatagtct')\n",
        "    ]\n",
        "\n",
        "# Loop over the values and insert each row\n",
        "for c in confidential:\n",
        "    cursor.execute('''INSERT INTO martian_confidential\n",
        "    (martian_id, first_name, last_name, base_id, super_id, salary, dna_id)\n",
        " VALUES (?, ?, ?,?,?,?,?)''', c\n",
        "    )\n",
        "\n",
        "# Commit the changes and close the connection\n",
        "db.commit()"
      ],
      "metadata": {
        "id": "plY3PRdeQCKj"
      },
      "execution_count": 117,
      "outputs": []
    },
    {
      "cell_type": "markdown",
      "source": [
        "---\n",
        "## SELECT"
      ],
      "metadata": {
        "id": "2WWJtXGdENOE"
      }
    },
    {
      "cell_type": "code",
      "source": [
        "for row in cursor.execute('''SELECT * FROM base;'''):\n",
        "    print(row)"
      ],
      "metadata": {
        "colab": {
          "base_uri": "https://localhost:8080/"
        },
        "id": "OMm-2KimRdWA",
        "outputId": "fd55e684-a069-47db-81a6-29cd7326008c"
      },
      "execution_count": 122,
      "outputs": [
        {
          "output_type": "stream",
          "name": "stdout",
          "text": [
            "(1, 'Tharsisland', '2037-06-03')\n",
            "(2, 'Valles Marineris 2.0', '2040-12-01')\n",
            "(3, 'Gale Cratertown', '2041-08-15')\n",
            "(4, 'New New New York', '2042-02-10')\n",
            "(5, 'Olympus Mons Spa & Casino', None)\n"
          ]
        }
      ]
    },
    {
      "cell_type": "code",
      "source": [
        "# Alternatively, we could select this way:\n",
        "cursor.execute('''SELECT * FROM base;''')\n",
        "for x in cursor.fetchall():\n",
        "    print(x)"
      ],
      "metadata": {
        "colab": {
          "base_uri": "https://localhost:8080/"
        },
        "id": "wXKA9wr6VolO",
        "outputId": "15f74df1-a81e-4cd7-fc62-1c96175f98cb"
      },
      "execution_count": 123,
      "outputs": [
        {
          "output_type": "stream",
          "name": "stdout",
          "text": [
            "(1, 'Tharsisland', '2037-06-03')\n",
            "(2, 'Valles Marineris 2.0', '2040-12-01')\n",
            "(3, 'Gale Cratertown', '2041-08-15')\n",
            "(4, 'New New New York', '2042-02-10')\n",
            "(5, 'Olympus Mons Spa & Casino', None)\n"
          ]
        }
      ]
    },
    {
      "cell_type": "code",
      "source": [
        "cursor.execute('''SELECT * FROM martian;''')\n",
        "for x in cursor.fetchall():\n",
        "    print(x)"
      ],
      "metadata": {
        "colab": {
          "base_uri": "https://localhost:8080/"
        },
        "id": "Q9WHmn5egNI5",
        "outputId": "66bccce5-fa07-4575-e983-e64a0276d981"
      },
      "execution_count": 127,
      "outputs": [
        {
          "output_type": "stream",
          "name": "stdout",
          "text": [
            "(100, 'Ray', 'Bradbury', 1, None)\n",
            "(101, 'John', 'Black', 4, 10)\n",
            "(102, 'Samuel', 'Hinkston', 4, 2)\n",
            "(103, 'Jeff', 'Spender', 1, 9)\n",
            "(104, 'Sam', 'Parkhill', 2, 12)\n",
            "(105, 'Elma', 'Parkhill', 3, 8)\n",
            "(106, 'Melissa', 'Lewis', 1, 1)\n",
            "(107, 'Mark', 'Watney', 3, None)\n",
            "(108, 'Beth', 'Johanssen', 1, 1)\n",
            "(109, 'Chris', 'Beck', 4, None)\n",
            "(110, 'Nathaniel', 'York', 4, 2)\n",
            "(111, 'Elon', 'Musk', 2, None)\n",
            "(112, 'John', 'Carter', None, 8)\n"
          ]
        }
      ]
    },
    {
      "cell_type": "code",
      "source": [
        "cursor.execute('''SELECT * FROM martian_confidential;''')\n",
        "for x in cursor.fetchall():\n",
        "    print(x)"
      ],
      "metadata": {
        "colab": {
          "base_uri": "https://localhost:8080/"
        },
        "id": "fQ7_Ew8MgSpb",
        "outputId": "31d2b4fc-b256-411d-f9a6-28e09fd488cf"
      },
      "execution_count": 130,
      "outputs": [
        {
          "output_type": "stream",
          "name": "stdout",
          "text": [
            "(1, 'Ray', 'Bradbury', 1, None, 155900, 'gctaggaatgtagaatctcctgttg')\n",
            "(2, 'John', 'Black', 4, 10, 120100, 'cagttaatggttgaagctggggatt')\n",
            "(3, 'Samuel', 'Hinkston', 4, 2, 110000, 'cgaagcgctagatgctgtgttgtag')\n",
            "(4, 'Jeff', 'Spender', 1, 9, 10000, 'gactaatgtcttcgtggattgcaga')\n",
            "(5, 'Sam', 'Parkhill', 2, 12, 125000, 'gttactttgcgaaagccgtggctac')\n",
            "(6, 'Elma', 'Parkhill', 3, 8, 137000, 'gcaggaatggaagcaactgccatat')\n",
            "(7, 'Melissa', 'Lewis', 1, 1, 145250, 'cttcgatcgtcaatggagttccggac')\n",
            "(8, 'Mark', 'Watney', 3, None, 121100, 'gacacgaggcgaactatgtcgcggc')\n",
            "(9, 'Beth', 'Johanssen', 1, 1, 130000, 'cttagactaggtgtgaaacccgtta')\n",
            "(10, 'Chris', 'Beck', 4, None, 125000, 'gggggggttacgacgaggaatccat')\n",
            "(11, 'Nathaniel', 'York', 4, 2, 105000, 'ggtctccctgggcgggatattggatg')\n",
            "(12, 'Elon', 'Musk', 2, None, 155800, 'atctgcttggatcaatagcgctgcg')\n",
            "(13, 'John', 'Carter', None, 8, 129500, 'ccaatcgtgcgagtcgcgatagtct')\n"
          ]
        }
      ]
    },
    {
      "cell_type": "code",
      "source": [
        "cursor.execute('''SELECT * FROM inventory WHERE supply_id =3;''')\n",
        "for x in cursor.fetchall():\n",
        "    print(x)"
      ],
      "metadata": {
        "colab": {
          "base_uri": "https://localhost:8080/"
        },
        "id": "aSeEHBBLgXg5",
        "outputId": "d1391783-2d71-452e-9fa4-2bf6d86969b3"
      },
      "execution_count": 136,
      "outputs": [
        {
          "output_type": "stream",
          "name": "stdout",
          "text": [
            "(1, 3, 5)\n"
          ]
        }
      ]
    },
    {
      "cell_type": "code",
      "source": [
        "cursor.execute('''SELECT * FROM supply WHERE quantity > 100;''')\n",
        "for x in cursor.fetchall():\n",
        "    print(x)\n",
        "db.close()"
      ],
      "metadata": {
        "colab": {
          "base_uri": "https://localhost:8080/"
        },
        "id": "n6bGIBjXgXVv",
        "outputId": "ac5066ed-e184-46d3-a87c-5e8d587c9dc7"
      },
      "execution_count": 142,
      "outputs": [
        {
          "output_type": "stream",
          "name": "stdout",
          "text": [
            "(1, 'Solar Panel', 'Standard 1x1 meter cell', 912)\n",
            "(3, 'Duct Tape', 'A 10 meter roll of duct tape for ALL your repairs.', 951)\n",
            "(4, 'Ketchup', 'Its ketchup...', 206)\n",
            "(8, 'Mars Bars', 'The ORIGINAL nutirent bar made with the finest bioengineered ingredients.', 3801)\n",
            "(10, 'Famous Rays Frozen Pizza', 'This Martian favorite is covered in all your favorite toppings. 1 flavor only.', 823)\n"
          ]
        }
      ]
    }
  ]
}